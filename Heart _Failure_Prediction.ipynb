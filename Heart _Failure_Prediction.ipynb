{
  "cells": [
    {
      "cell_type": "code",
      "execution_count": null,
      "id": "27b12e55",
      "metadata": {
        "_cell_guid": "b1076dfc-b9ad-4769-8c92-a6c4dae69d19",
        "_uuid": "8f2839f25d086af736a60e9eeb907d3b93b6e0e5",
        "execution": {
          "iopub.execute_input": "2023-03-28T16:47:10.677156Z",
          "iopub.status.busy": "2023-03-28T16:47:10.676684Z",
          "iopub.status.idle": "2023-03-28T16:47:10.698778Z",
          "shell.execute_reply": "2023-03-28T16:47:10.697455Z"
        },
        "papermill": {
          "duration": 0.037462,
          "end_time": "2023-03-28T16:47:10.701573",
          "exception": false,
          "start_time": "2023-03-28T16:47:10.664111",
          "status": "completed"
        },
        "tags": [],
        "id": "27b12e55"
      },
      "outputs": [],
      "source": [
        "import numpy as np # linear algebra\n",
        "import pandas as pd\n",
        "import os\n"
      ]
    },
    {
      "cell_type": "code",
      "execution_count": null,
      "id": "8d30b8c8",
      "metadata": {
        "execution": {
          "iopub.execute_input": "2023-03-28T16:47:10.722892Z",
          "iopub.status.busy": "2023-03-28T16:47:10.722478Z",
          "iopub.status.idle": "2023-03-28T16:47:12.551991Z",
          "shell.execute_reply": "2023-03-28T16:47:12.550722Z"
        },
        "papermill": {
          "duration": 1.843667,
          "end_time": "2023-03-28T16:47:12.555082",
          "exception": false,
          "start_time": "2023-03-28T16:47:10.711415",
          "status": "completed"
        },
        "tags": [],
        "id": "8d30b8c8"
      },
      "outputs": [],
      "source": [
        "#Importing Libraries\n",
        "import numpy as np\n",
        "import pandas as pd\n",
        "import seaborn as sns\n",
        "import plotly.express as px\n",
        "from matplotlib import pyplot as plt\n",
        "from sklearn.model_selection import cross_val_score\n",
        "from collections import Counter\n",
        "import pandas as pd\n",
        "import numpy as np\n",
        "import matplotlib.pyplot as plt\n",
        "import seaborn as sns\n",
        "from sklearn.neighbors import KNeighborsClassifier\n",
        "from sklearn.ensemble import RandomForestClassifier"
      ]
    },
    {
      "cell_type": "code",
      "source": [
        "! pip install kaggle"
      ],
      "metadata": {
        "colab": {
          "base_uri": "https://localhost:8080/"
        },
        "id": "SYAlnx1H13BM",
        "outputId": "bdaf7aad-3948-464e-c840-bb49d6c21e78"
      },
      "id": "SYAlnx1H13BM",
      "execution_count": null,
      "outputs": [
        {
          "output_type": "stream",
          "name": "stdout",
          "text": [
            "Looking in indexes: https://pypi.org/simple, https://us-python.pkg.dev/colab-wheels/public/simple/\n",
            "Requirement already satisfied: kaggle in /usr/local/lib/python3.9/dist-packages (1.5.13)\n",
            "Requirement already satisfied: python-slugify in /usr/local/lib/python3.9/dist-packages (from kaggle) (8.0.1)\n",
            "Requirement already satisfied: urllib3 in /usr/local/lib/python3.9/dist-packages (from kaggle) (1.26.15)\n",
            "Requirement already satisfied: requests in /usr/local/lib/python3.9/dist-packages (from kaggle) (2.27.1)\n",
            "Requirement already satisfied: six>=1.10 in /usr/local/lib/python3.9/dist-packages (from kaggle) (1.16.0)\n",
            "Requirement already satisfied: tqdm in /usr/local/lib/python3.9/dist-packages (from kaggle) (4.65.0)\n",
            "Requirement already satisfied: certifi in /usr/local/lib/python3.9/dist-packages (from kaggle) (2022.12.7)\n",
            "Requirement already satisfied: python-dateutil in /usr/local/lib/python3.9/dist-packages (from kaggle) (2.8.2)\n",
            "Requirement already satisfied: text-unidecode>=1.3 in /usr/local/lib/python3.9/dist-packages (from python-slugify->kaggle) (1.3)\n",
            "Requirement already satisfied: charset-normalizer~=2.0.0 in /usr/local/lib/python3.9/dist-packages (from requests->kaggle) (2.0.12)\n",
            "Requirement already satisfied: idna<4,>=2.5 in /usr/local/lib/python3.9/dist-packages (from requests->kaggle) (3.4)\n"
          ]
        }
      ]
    },
    {
      "cell_type": "code",
      "source": [
        "!mkdir ~/.kaggle\n",
        "!cp /content/kaggle.json ~/.kaggle/\n",
        "!chmod 600 ~/.kaggle/kaggle.json"
      ],
      "metadata": {
        "id": "NkZ0Bj8x2ACQ"
      },
      "id": "NkZ0Bj8x2ACQ",
      "execution_count": null,
      "outputs": []
    },
    {
      "cell_type": "code",
      "source": [
        "!kaggle datasets download andrewmvd/heart-failure-clinical-data"
      ],
      "metadata": {
        "colab": {
          "base_uri": "https://localhost:8080/"
        },
        "id": "UMKlqo1T2A4K",
        "outputId": "4330defd-dab0-41f8-8bee-e7e27263bfce"
      },
      "id": "UMKlqo1T2A4K",
      "execution_count": null,
      "outputs": [
        {
          "output_type": "stream",
          "name": "stdout",
          "text": [
            "Downloading heart-failure-clinical-data.zip to /content\n",
            "\r  0% 0.00/3.97k [00:00<?, ?B/s]\n",
            "\r100% 3.97k/3.97k [00:00<00:00, 3.20MB/s]\n"
          ]
        }
      ]
    },
    {
      "cell_type": "code",
      "source": [
        "#folder is unzipped, may take a few moments to populate\n",
        "\n",
        "with zipfile.ZipFile('/content/heart-failure-clinical-data.zip', 'r') as zip_ref:\n",
        "    zip_ref.extractall('/content/')"
      ],
      "metadata": {
        "id": "I5WmfUpe2INn"
      },
      "id": "I5WmfUpe2INn",
      "execution_count": null,
      "outputs": []
    },
    {
      "cell_type": "code",
      "execution_count": null,
      "id": "56fa107b",
      "metadata": {
        "execution": {
          "iopub.execute_input": "2023-03-28T16:47:12.576345Z",
          "iopub.status.busy": "2023-03-28T16:47:12.575921Z",
          "iopub.status.idle": "2023-03-28T16:47:12.593807Z",
          "shell.execute_reply": "2023-03-28T16:47:12.592462Z"
        },
        "papermill": {
          "duration": 0.03186,
          "end_time": "2023-03-28T16:47:12.596736",
          "exception": false,
          "start_time": "2023-03-28T16:47:12.564876",
          "status": "completed"
        },
        "tags": [],
        "id": "56fa107b"
      },
      "outputs": [],
      "source": [
        "#Importing Dataset\n",
        "try :\n",
        "  df=pd.read_csv('/content/heart_failure_clinical_records_dataset.csv')\n",
        "except :\n",
        "  df = pd.read_csv('heart.csv')"
      ]
    },
    {
      "cell_type": "markdown",
      "id": "7982a014",
      "metadata": {
        "papermill": {
          "duration": 0.010688,
          "end_time": "2023-03-28T16:47:12.617045",
          "exception": false,
          "start_time": "2023-03-28T16:47:12.606357",
          "status": "completed"
        },
        "tags": [],
        "id": "7982a014"
      },
      "source": [
        "# EDA (Exploratory Data Analysis)"
      ]
    },
    {
      "cell_type": "code",
      "source": [
        "df.head(10)"
      ],
      "metadata": {
        "colab": {
          "base_uri": "https://localhost:8080/",
          "height": 363
        },
        "id": "dtOv2FswouP_",
        "outputId": "5ca6216e-3b3e-4773-e323-e11bce837b6e"
      },
      "id": "dtOv2FswouP_",
      "execution_count": null,
      "outputs": [
        {
          "output_type": "execute_result",
          "data": {
            "text/plain": [
              "    age  anaemia  creatinine_phosphokinase  diabetes  ejection_fraction  \\\n",
              "0  75.0        0                       582         0                 20   \n",
              "1  55.0        0                      7861         0                 38   \n",
              "2  65.0        0                       146         0                 20   \n",
              "3  50.0        1                       111         0                 20   \n",
              "4  65.0        1                       160         1                 20   \n",
              "5  90.0        1                        47         0                 40   \n",
              "6  75.0        1                       246         0                 15   \n",
              "7  60.0        1                       315         1                 60   \n",
              "8  65.0        0                       157         0                 65   \n",
              "9  80.0        1                       123         0                 35   \n",
              "\n",
              "   high_blood_pressure  platelets  serum_creatinine  serum_sodium  sex  \\\n",
              "0                    1  265000.00               1.9           130    1   \n",
              "1                    0  263358.03               1.1           136    1   \n",
              "2                    0  162000.00               1.3           129    1   \n",
              "3                    0  210000.00               1.9           137    1   \n",
              "4                    0  327000.00               2.7           116    0   \n",
              "5                    1  204000.00               2.1           132    1   \n",
              "6                    0  127000.00               1.2           137    1   \n",
              "7                    0  454000.00               1.1           131    1   \n",
              "8                    0  263358.03               1.5           138    0   \n",
              "9                    1  388000.00               9.4           133    1   \n",
              "\n",
              "   smoking  time  DEATH_EVENT  \n",
              "0        0     4            1  \n",
              "1        0     6            1  \n",
              "2        1     7            1  \n",
              "3        0     7            1  \n",
              "4        0     8            1  \n",
              "5        1     8            1  \n",
              "6        0    10            1  \n",
              "7        1    10            1  \n",
              "8        0    10            1  \n",
              "9        1    10            1  "
            ],
            "text/html": [
              "\n",
              "  <div id=\"df-035df481-4199-4775-9cc4-8dde3236dc9d\">\n",
              "    <div class=\"colab-df-container\">\n",
              "      <div>\n",
              "<style scoped>\n",
              "    .dataframe tbody tr th:only-of-type {\n",
              "        vertical-align: middle;\n",
              "    }\n",
              "\n",
              "    .dataframe tbody tr th {\n",
              "        vertical-align: top;\n",
              "    }\n",
              "\n",
              "    .dataframe thead th {\n",
              "        text-align: right;\n",
              "    }\n",
              "</style>\n",
              "<table border=\"1\" class=\"dataframe\">\n",
              "  <thead>\n",
              "    <tr style=\"text-align: right;\">\n",
              "      <th></th>\n",
              "      <th>age</th>\n",
              "      <th>anaemia</th>\n",
              "      <th>creatinine_phosphokinase</th>\n",
              "      <th>diabetes</th>\n",
              "      <th>ejection_fraction</th>\n",
              "      <th>high_blood_pressure</th>\n",
              "      <th>platelets</th>\n",
              "      <th>serum_creatinine</th>\n",
              "      <th>serum_sodium</th>\n",
              "      <th>sex</th>\n",
              "      <th>smoking</th>\n",
              "      <th>time</th>\n",
              "      <th>DEATH_EVENT</th>\n",
              "    </tr>\n",
              "  </thead>\n",
              "  <tbody>\n",
              "    <tr>\n",
              "      <th>0</th>\n",
              "      <td>75.0</td>\n",
              "      <td>0</td>\n",
              "      <td>582</td>\n",
              "      <td>0</td>\n",
              "      <td>20</td>\n",
              "      <td>1</td>\n",
              "      <td>265000.00</td>\n",
              "      <td>1.9</td>\n",
              "      <td>130</td>\n",
              "      <td>1</td>\n",
              "      <td>0</td>\n",
              "      <td>4</td>\n",
              "      <td>1</td>\n",
              "    </tr>\n",
              "    <tr>\n",
              "      <th>1</th>\n",
              "      <td>55.0</td>\n",
              "      <td>0</td>\n",
              "      <td>7861</td>\n",
              "      <td>0</td>\n",
              "      <td>38</td>\n",
              "      <td>0</td>\n",
              "      <td>263358.03</td>\n",
              "      <td>1.1</td>\n",
              "      <td>136</td>\n",
              "      <td>1</td>\n",
              "      <td>0</td>\n",
              "      <td>6</td>\n",
              "      <td>1</td>\n",
              "    </tr>\n",
              "    <tr>\n",
              "      <th>2</th>\n",
              "      <td>65.0</td>\n",
              "      <td>0</td>\n",
              "      <td>146</td>\n",
              "      <td>0</td>\n",
              "      <td>20</td>\n",
              "      <td>0</td>\n",
              "      <td>162000.00</td>\n",
              "      <td>1.3</td>\n",
              "      <td>129</td>\n",
              "      <td>1</td>\n",
              "      <td>1</td>\n",
              "      <td>7</td>\n",
              "      <td>1</td>\n",
              "    </tr>\n",
              "    <tr>\n",
              "      <th>3</th>\n",
              "      <td>50.0</td>\n",
              "      <td>1</td>\n",
              "      <td>111</td>\n",
              "      <td>0</td>\n",
              "      <td>20</td>\n",
              "      <td>0</td>\n",
              "      <td>210000.00</td>\n",
              "      <td>1.9</td>\n",
              "      <td>137</td>\n",
              "      <td>1</td>\n",
              "      <td>0</td>\n",
              "      <td>7</td>\n",
              "      <td>1</td>\n",
              "    </tr>\n",
              "    <tr>\n",
              "      <th>4</th>\n",
              "      <td>65.0</td>\n",
              "      <td>1</td>\n",
              "      <td>160</td>\n",
              "      <td>1</td>\n",
              "      <td>20</td>\n",
              "      <td>0</td>\n",
              "      <td>327000.00</td>\n",
              "      <td>2.7</td>\n",
              "      <td>116</td>\n",
              "      <td>0</td>\n",
              "      <td>0</td>\n",
              "      <td>8</td>\n",
              "      <td>1</td>\n",
              "    </tr>\n",
              "    <tr>\n",
              "      <th>5</th>\n",
              "      <td>90.0</td>\n",
              "      <td>1</td>\n",
              "      <td>47</td>\n",
              "      <td>0</td>\n",
              "      <td>40</td>\n",
              "      <td>1</td>\n",
              "      <td>204000.00</td>\n",
              "      <td>2.1</td>\n",
              "      <td>132</td>\n",
              "      <td>1</td>\n",
              "      <td>1</td>\n",
              "      <td>8</td>\n",
              "      <td>1</td>\n",
              "    </tr>\n",
              "    <tr>\n",
              "      <th>6</th>\n",
              "      <td>75.0</td>\n",
              "      <td>1</td>\n",
              "      <td>246</td>\n",
              "      <td>0</td>\n",
              "      <td>15</td>\n",
              "      <td>0</td>\n",
              "      <td>127000.00</td>\n",
              "      <td>1.2</td>\n",
              "      <td>137</td>\n",
              "      <td>1</td>\n",
              "      <td>0</td>\n",
              "      <td>10</td>\n",
              "      <td>1</td>\n",
              "    </tr>\n",
              "    <tr>\n",
              "      <th>7</th>\n",
              "      <td>60.0</td>\n",
              "      <td>1</td>\n",
              "      <td>315</td>\n",
              "      <td>1</td>\n",
              "      <td>60</td>\n",
              "      <td>0</td>\n",
              "      <td>454000.00</td>\n",
              "      <td>1.1</td>\n",
              "      <td>131</td>\n",
              "      <td>1</td>\n",
              "      <td>1</td>\n",
              "      <td>10</td>\n",
              "      <td>1</td>\n",
              "    </tr>\n",
              "    <tr>\n",
              "      <th>8</th>\n",
              "      <td>65.0</td>\n",
              "      <td>0</td>\n",
              "      <td>157</td>\n",
              "      <td>0</td>\n",
              "      <td>65</td>\n",
              "      <td>0</td>\n",
              "      <td>263358.03</td>\n",
              "      <td>1.5</td>\n",
              "      <td>138</td>\n",
              "      <td>0</td>\n",
              "      <td>0</td>\n",
              "      <td>10</td>\n",
              "      <td>1</td>\n",
              "    </tr>\n",
              "    <tr>\n",
              "      <th>9</th>\n",
              "      <td>80.0</td>\n",
              "      <td>1</td>\n",
              "      <td>123</td>\n",
              "      <td>0</td>\n",
              "      <td>35</td>\n",
              "      <td>1</td>\n",
              "      <td>388000.00</td>\n",
              "      <td>9.4</td>\n",
              "      <td>133</td>\n",
              "      <td>1</td>\n",
              "      <td>1</td>\n",
              "      <td>10</td>\n",
              "      <td>1</td>\n",
              "    </tr>\n",
              "  </tbody>\n",
              "</table>\n",
              "</div>\n",
              "      <button class=\"colab-df-convert\" onclick=\"convertToInteractive('df-035df481-4199-4775-9cc4-8dde3236dc9d')\"\n",
              "              title=\"Convert this dataframe to an interactive table.\"\n",
              "              style=\"display:none;\">\n",
              "        \n",
              "  <svg xmlns=\"http://www.w3.org/2000/svg\" height=\"24px\"viewBox=\"0 0 24 24\"\n",
              "       width=\"24px\">\n",
              "    <path d=\"M0 0h24v24H0V0z\" fill=\"none\"/>\n",
              "    <path d=\"M18.56 5.44l.94 2.06.94-2.06 2.06-.94-2.06-.94-.94-2.06-.94 2.06-2.06.94zm-11 1L8.5 8.5l.94-2.06 2.06-.94-2.06-.94L8.5 2.5l-.94 2.06-2.06.94zm10 10l.94 2.06.94-2.06 2.06-.94-2.06-.94-.94-2.06-.94 2.06-2.06.94z\"/><path d=\"M17.41 7.96l-1.37-1.37c-.4-.4-.92-.59-1.43-.59-.52 0-1.04.2-1.43.59L10.3 9.45l-7.72 7.72c-.78.78-.78 2.05 0 2.83L4 21.41c.39.39.9.59 1.41.59.51 0 1.02-.2 1.41-.59l7.78-7.78 2.81-2.81c.8-.78.8-2.07 0-2.86zM5.41 20L4 18.59l7.72-7.72 1.47 1.35L5.41 20z\"/>\n",
              "  </svg>\n",
              "      </button>\n",
              "      \n",
              "  <style>\n",
              "    .colab-df-container {\n",
              "      display:flex;\n",
              "      flex-wrap:wrap;\n",
              "      gap: 12px;\n",
              "    }\n",
              "\n",
              "    .colab-df-convert {\n",
              "      background-color: #E8F0FE;\n",
              "      border: none;\n",
              "      border-radius: 50%;\n",
              "      cursor: pointer;\n",
              "      display: none;\n",
              "      fill: #1967D2;\n",
              "      height: 32px;\n",
              "      padding: 0 0 0 0;\n",
              "      width: 32px;\n",
              "    }\n",
              "\n",
              "    .colab-df-convert:hover {\n",
              "      background-color: #E2EBFA;\n",
              "      box-shadow: 0px 1px 2px rgba(60, 64, 67, 0.3), 0px 1px 3px 1px rgba(60, 64, 67, 0.15);\n",
              "      fill: #174EA6;\n",
              "    }\n",
              "\n",
              "    [theme=dark] .colab-df-convert {\n",
              "      background-color: #3B4455;\n",
              "      fill: #D2E3FC;\n",
              "    }\n",
              "\n",
              "    [theme=dark] .colab-df-convert:hover {\n",
              "      background-color: #434B5C;\n",
              "      box-shadow: 0px 1px 3px 1px rgba(0, 0, 0, 0.15);\n",
              "      filter: drop-shadow(0px 1px 2px rgba(0, 0, 0, 0.3));\n",
              "      fill: #FFFFFF;\n",
              "    }\n",
              "  </style>\n",
              "\n",
              "      <script>\n",
              "        const buttonEl =\n",
              "          document.querySelector('#df-035df481-4199-4775-9cc4-8dde3236dc9d button.colab-df-convert');\n",
              "        buttonEl.style.display =\n",
              "          google.colab.kernel.accessAllowed ? 'block' : 'none';\n",
              "\n",
              "        async function convertToInteractive(key) {\n",
              "          const element = document.querySelector('#df-035df481-4199-4775-9cc4-8dde3236dc9d');\n",
              "          const dataTable =\n",
              "            await google.colab.kernel.invokeFunction('convertToInteractive',\n",
              "                                                     [key], {});\n",
              "          if (!dataTable) return;\n",
              "\n",
              "          const docLinkHtml = 'Like what you see? Visit the ' +\n",
              "            '<a target=\"_blank\" href=https://colab.research.google.com/notebooks/data_table.ipynb>data table notebook</a>'\n",
              "            + ' to learn more about interactive tables.';\n",
              "          element.innerHTML = '';\n",
              "          dataTable['output_type'] = 'display_data';\n",
              "          await google.colab.output.renderOutput(dataTable, element);\n",
              "          const docLink = document.createElement('div');\n",
              "          docLink.innerHTML = docLinkHtml;\n",
              "          element.appendChild(docLink);\n",
              "        }\n",
              "      </script>\n",
              "    </div>\n",
              "  </div>\n",
              "  "
            ]
          },
          "metadata": {},
          "execution_count": 17
        }
      ]
    },
    {
      "cell_type": "code",
      "execution_count": null,
      "id": "ce0436b0",
      "metadata": {
        "execution": {
          "iopub.execute_input": "2023-03-28T16:47:12.703594Z",
          "iopub.status.busy": "2023-03-28T16:47:12.702902Z",
          "iopub.status.idle": "2023-03-28T16:47:12.728701Z",
          "shell.execute_reply": "2023-03-28T16:47:12.727013Z"
        },
        "papermill": {
          "duration": 0.042545,
          "end_time": "2023-03-28T16:47:12.732984",
          "exception": false,
          "start_time": "2023-03-28T16:47:12.690439",
          "status": "completed"
        },
        "tags": [],
        "colab": {
          "base_uri": "https://localhost:8080/"
        },
        "id": "ce0436b0",
        "outputId": "955f683e-51de-421e-ed18-c010351e7945"
      },
      "outputs": [
        {
          "output_type": "stream",
          "name": "stdout",
          "text": [
            "<class 'pandas.core.frame.DataFrame'>\n",
            "RangeIndex: 299 entries, 0 to 298\n",
            "Data columns (total 13 columns):\n",
            " #   Column                    Non-Null Count  Dtype  \n",
            "---  ------                    --------------  -----  \n",
            " 0   age                       299 non-null    float64\n",
            " 1   anaemia                   299 non-null    int64  \n",
            " 2   creatinine_phosphokinase  299 non-null    int64  \n",
            " 3   diabetes                  299 non-null    int64  \n",
            " 4   ejection_fraction         299 non-null    int64  \n",
            " 5   high_blood_pressure       299 non-null    int64  \n",
            " 6   platelets                 299 non-null    float64\n",
            " 7   serum_creatinine          299 non-null    float64\n",
            " 8   serum_sodium              299 non-null    int64  \n",
            " 9   sex                       299 non-null    int64  \n",
            " 10  smoking                   299 non-null    int64  \n",
            " 11  time                      299 non-null    int64  \n",
            " 12  DEATH_EVENT               299 non-null    int64  \n",
            "dtypes: float64(3), int64(10)\n",
            "memory usage: 30.5 KB\n"
          ]
        }
      ],
      "source": [
        "df.info()"
      ]
    },
    {
      "cell_type": "code",
      "source": [
        "df.shape"
      ],
      "metadata": {
        "colab": {
          "base_uri": "https://localhost:8080/"
        },
        "id": "X0iWqR4mr79-",
        "outputId": "0afb0545-582a-4323-994d-59312e7c8999"
      },
      "id": "X0iWqR4mr79-",
      "execution_count": null,
      "outputs": [
        {
          "output_type": "execute_result",
          "data": {
            "text/plain": [
              "(299, 13)"
            ]
          },
          "metadata": {},
          "execution_count": 16
        }
      ]
    },
    {
      "cell_type": "markdown",
      "source": [
        "Terdapat 299 medical record dari pasien dengan gagal jantung dengan 13 fitur. DEATH_EVENT merupakan variabel dependent"
      ],
      "metadata": {
        "id": "Q4XMtI0nr_OH"
      },
      "id": "Q4XMtI0nr_OH"
    },
    {
      "cell_type": "code",
      "execution_count": null,
      "id": "672c36e9",
      "metadata": {
        "execution": {
          "iopub.execute_input": "2023-03-28T16:47:12.791673Z",
          "iopub.status.busy": "2023-03-28T16:47:12.790942Z",
          "iopub.status.idle": "2023-03-28T16:47:12.845476Z",
          "shell.execute_reply": "2023-03-28T16:47:12.844156Z"
        },
        "papermill": {
          "duration": 0.069351,
          "end_time": "2023-03-28T16:47:12.848067",
          "exception": false,
          "start_time": "2023-03-28T16:47:12.778716",
          "status": "completed"
        },
        "tags": [],
        "colab": {
          "base_uri": "https://localhost:8080/",
          "height": 301
        },
        "id": "672c36e9",
        "outputId": "a3a0d7c8-e5df-4568-ce23-a3d53779e905"
      },
      "outputs": [
        {
          "output_type": "execute_result",
          "data": {
            "text/plain": [
              "              age     anaemia  creatinine_phosphokinase    diabetes  \\\n",
              "count  299.000000  299.000000                299.000000  299.000000   \n",
              "mean    60.833893    0.431438                581.839465    0.418060   \n",
              "std     11.894809    0.496107                970.287881    0.494067   \n",
              "min     40.000000    0.000000                 23.000000    0.000000   \n",
              "25%     51.000000    0.000000                116.500000    0.000000   \n",
              "50%     60.000000    0.000000                250.000000    0.000000   \n",
              "75%     70.000000    1.000000                582.000000    1.000000   \n",
              "max     95.000000    1.000000               7861.000000    1.000000   \n",
              "\n",
              "       ejection_fraction  high_blood_pressure      platelets  \\\n",
              "count         299.000000           299.000000     299.000000   \n",
              "mean           38.083612             0.351171  263358.029264   \n",
              "std            11.834841             0.478136   97804.236869   \n",
              "min            14.000000             0.000000   25100.000000   \n",
              "25%            30.000000             0.000000  212500.000000   \n",
              "50%            38.000000             0.000000  262000.000000   \n",
              "75%            45.000000             1.000000  303500.000000   \n",
              "max            80.000000             1.000000  850000.000000   \n",
              "\n",
              "       serum_creatinine  serum_sodium         sex    smoking        time  \\\n",
              "count         299.00000    299.000000  299.000000  299.00000  299.000000   \n",
              "mean            1.39388    136.625418    0.648829    0.32107  130.260870   \n",
              "std             1.03451      4.412477    0.478136    0.46767   77.614208   \n",
              "min             0.50000    113.000000    0.000000    0.00000    4.000000   \n",
              "25%             0.90000    134.000000    0.000000    0.00000   73.000000   \n",
              "50%             1.10000    137.000000    1.000000    0.00000  115.000000   \n",
              "75%             1.40000    140.000000    1.000000    1.00000  203.000000   \n",
              "max             9.40000    148.000000    1.000000    1.00000  285.000000   \n",
              "\n",
              "       DEATH_EVENT  \n",
              "count    299.00000  \n",
              "mean       0.32107  \n",
              "std        0.46767  \n",
              "min        0.00000  \n",
              "25%        0.00000  \n",
              "50%        0.00000  \n",
              "75%        1.00000  \n",
              "max        1.00000  "
            ],
            "text/html": [
              "\n",
              "  <div id=\"df-9c0aa582-e016-4993-a4a7-89299846556a\">\n",
              "    <div class=\"colab-df-container\">\n",
              "      <div>\n",
              "<style scoped>\n",
              "    .dataframe tbody tr th:only-of-type {\n",
              "        vertical-align: middle;\n",
              "    }\n",
              "\n",
              "    .dataframe tbody tr th {\n",
              "        vertical-align: top;\n",
              "    }\n",
              "\n",
              "    .dataframe thead th {\n",
              "        text-align: right;\n",
              "    }\n",
              "</style>\n",
              "<table border=\"1\" class=\"dataframe\">\n",
              "  <thead>\n",
              "    <tr style=\"text-align: right;\">\n",
              "      <th></th>\n",
              "      <th>age</th>\n",
              "      <th>anaemia</th>\n",
              "      <th>creatinine_phosphokinase</th>\n",
              "      <th>diabetes</th>\n",
              "      <th>ejection_fraction</th>\n",
              "      <th>high_blood_pressure</th>\n",
              "      <th>platelets</th>\n",
              "      <th>serum_creatinine</th>\n",
              "      <th>serum_sodium</th>\n",
              "      <th>sex</th>\n",
              "      <th>smoking</th>\n",
              "      <th>time</th>\n",
              "      <th>DEATH_EVENT</th>\n",
              "    </tr>\n",
              "  </thead>\n",
              "  <tbody>\n",
              "    <tr>\n",
              "      <th>count</th>\n",
              "      <td>299.000000</td>\n",
              "      <td>299.000000</td>\n",
              "      <td>299.000000</td>\n",
              "      <td>299.000000</td>\n",
              "      <td>299.000000</td>\n",
              "      <td>299.000000</td>\n",
              "      <td>299.000000</td>\n",
              "      <td>299.00000</td>\n",
              "      <td>299.000000</td>\n",
              "      <td>299.000000</td>\n",
              "      <td>299.00000</td>\n",
              "      <td>299.000000</td>\n",
              "      <td>299.00000</td>\n",
              "    </tr>\n",
              "    <tr>\n",
              "      <th>mean</th>\n",
              "      <td>60.833893</td>\n",
              "      <td>0.431438</td>\n",
              "      <td>581.839465</td>\n",
              "      <td>0.418060</td>\n",
              "      <td>38.083612</td>\n",
              "      <td>0.351171</td>\n",
              "      <td>263358.029264</td>\n",
              "      <td>1.39388</td>\n",
              "      <td>136.625418</td>\n",
              "      <td>0.648829</td>\n",
              "      <td>0.32107</td>\n",
              "      <td>130.260870</td>\n",
              "      <td>0.32107</td>\n",
              "    </tr>\n",
              "    <tr>\n",
              "      <th>std</th>\n",
              "      <td>11.894809</td>\n",
              "      <td>0.496107</td>\n",
              "      <td>970.287881</td>\n",
              "      <td>0.494067</td>\n",
              "      <td>11.834841</td>\n",
              "      <td>0.478136</td>\n",
              "      <td>97804.236869</td>\n",
              "      <td>1.03451</td>\n",
              "      <td>4.412477</td>\n",
              "      <td>0.478136</td>\n",
              "      <td>0.46767</td>\n",
              "      <td>77.614208</td>\n",
              "      <td>0.46767</td>\n",
              "    </tr>\n",
              "    <tr>\n",
              "      <th>min</th>\n",
              "      <td>40.000000</td>\n",
              "      <td>0.000000</td>\n",
              "      <td>23.000000</td>\n",
              "      <td>0.000000</td>\n",
              "      <td>14.000000</td>\n",
              "      <td>0.000000</td>\n",
              "      <td>25100.000000</td>\n",
              "      <td>0.50000</td>\n",
              "      <td>113.000000</td>\n",
              "      <td>0.000000</td>\n",
              "      <td>0.00000</td>\n",
              "      <td>4.000000</td>\n",
              "      <td>0.00000</td>\n",
              "    </tr>\n",
              "    <tr>\n",
              "      <th>25%</th>\n",
              "      <td>51.000000</td>\n",
              "      <td>0.000000</td>\n",
              "      <td>116.500000</td>\n",
              "      <td>0.000000</td>\n",
              "      <td>30.000000</td>\n",
              "      <td>0.000000</td>\n",
              "      <td>212500.000000</td>\n",
              "      <td>0.90000</td>\n",
              "      <td>134.000000</td>\n",
              "      <td>0.000000</td>\n",
              "      <td>0.00000</td>\n",
              "      <td>73.000000</td>\n",
              "      <td>0.00000</td>\n",
              "    </tr>\n",
              "    <tr>\n",
              "      <th>50%</th>\n",
              "      <td>60.000000</td>\n",
              "      <td>0.000000</td>\n",
              "      <td>250.000000</td>\n",
              "      <td>0.000000</td>\n",
              "      <td>38.000000</td>\n",
              "      <td>0.000000</td>\n",
              "      <td>262000.000000</td>\n",
              "      <td>1.10000</td>\n",
              "      <td>137.000000</td>\n",
              "      <td>1.000000</td>\n",
              "      <td>0.00000</td>\n",
              "      <td>115.000000</td>\n",
              "      <td>0.00000</td>\n",
              "    </tr>\n",
              "    <tr>\n",
              "      <th>75%</th>\n",
              "      <td>70.000000</td>\n",
              "      <td>1.000000</td>\n",
              "      <td>582.000000</td>\n",
              "      <td>1.000000</td>\n",
              "      <td>45.000000</td>\n",
              "      <td>1.000000</td>\n",
              "      <td>303500.000000</td>\n",
              "      <td>1.40000</td>\n",
              "      <td>140.000000</td>\n",
              "      <td>1.000000</td>\n",
              "      <td>1.00000</td>\n",
              "      <td>203.000000</td>\n",
              "      <td>1.00000</td>\n",
              "    </tr>\n",
              "    <tr>\n",
              "      <th>max</th>\n",
              "      <td>95.000000</td>\n",
              "      <td>1.000000</td>\n",
              "      <td>7861.000000</td>\n",
              "      <td>1.000000</td>\n",
              "      <td>80.000000</td>\n",
              "      <td>1.000000</td>\n",
              "      <td>850000.000000</td>\n",
              "      <td>9.40000</td>\n",
              "      <td>148.000000</td>\n",
              "      <td>1.000000</td>\n",
              "      <td>1.00000</td>\n",
              "      <td>285.000000</td>\n",
              "      <td>1.00000</td>\n",
              "    </tr>\n",
              "  </tbody>\n",
              "</table>\n",
              "</div>\n",
              "      <button class=\"colab-df-convert\" onclick=\"convertToInteractive('df-9c0aa582-e016-4993-a4a7-89299846556a')\"\n",
              "              title=\"Convert this dataframe to an interactive table.\"\n",
              "              style=\"display:none;\">\n",
              "        \n",
              "  <svg xmlns=\"http://www.w3.org/2000/svg\" height=\"24px\"viewBox=\"0 0 24 24\"\n",
              "       width=\"24px\">\n",
              "    <path d=\"M0 0h24v24H0V0z\" fill=\"none\"/>\n",
              "    <path d=\"M18.56 5.44l.94 2.06.94-2.06 2.06-.94-2.06-.94-.94-2.06-.94 2.06-2.06.94zm-11 1L8.5 8.5l.94-2.06 2.06-.94-2.06-.94L8.5 2.5l-.94 2.06-2.06.94zm10 10l.94 2.06.94-2.06 2.06-.94-2.06-.94-.94-2.06-.94 2.06-2.06.94z\"/><path d=\"M17.41 7.96l-1.37-1.37c-.4-.4-.92-.59-1.43-.59-.52 0-1.04.2-1.43.59L10.3 9.45l-7.72 7.72c-.78.78-.78 2.05 0 2.83L4 21.41c.39.39.9.59 1.41.59.51 0 1.02-.2 1.41-.59l7.78-7.78 2.81-2.81c.8-.78.8-2.07 0-2.86zM5.41 20L4 18.59l7.72-7.72 1.47 1.35L5.41 20z\"/>\n",
              "  </svg>\n",
              "      </button>\n",
              "      \n",
              "  <style>\n",
              "    .colab-df-container {\n",
              "      display:flex;\n",
              "      flex-wrap:wrap;\n",
              "      gap: 12px;\n",
              "    }\n",
              "\n",
              "    .colab-df-convert {\n",
              "      background-color: #E8F0FE;\n",
              "      border: none;\n",
              "      border-radius: 50%;\n",
              "      cursor: pointer;\n",
              "      display: none;\n",
              "      fill: #1967D2;\n",
              "      height: 32px;\n",
              "      padding: 0 0 0 0;\n",
              "      width: 32px;\n",
              "    }\n",
              "\n",
              "    .colab-df-convert:hover {\n",
              "      background-color: #E2EBFA;\n",
              "      box-shadow: 0px 1px 2px rgba(60, 64, 67, 0.3), 0px 1px 3px 1px rgba(60, 64, 67, 0.15);\n",
              "      fill: #174EA6;\n",
              "    }\n",
              "\n",
              "    [theme=dark] .colab-df-convert {\n",
              "      background-color: #3B4455;\n",
              "      fill: #D2E3FC;\n",
              "    }\n",
              "\n",
              "    [theme=dark] .colab-df-convert:hover {\n",
              "      background-color: #434B5C;\n",
              "      box-shadow: 0px 1px 3px 1px rgba(0, 0, 0, 0.15);\n",
              "      filter: drop-shadow(0px 1px 2px rgba(0, 0, 0, 0.3));\n",
              "      fill: #FFFFFF;\n",
              "    }\n",
              "  </style>\n",
              "\n",
              "      <script>\n",
              "        const buttonEl =\n",
              "          document.querySelector('#df-9c0aa582-e016-4993-a4a7-89299846556a button.colab-df-convert');\n",
              "        buttonEl.style.display =\n",
              "          google.colab.kernel.accessAllowed ? 'block' : 'none';\n",
              "\n",
              "        async function convertToInteractive(key) {\n",
              "          const element = document.querySelector('#df-9c0aa582-e016-4993-a4a7-89299846556a');\n",
              "          const dataTable =\n",
              "            await google.colab.kernel.invokeFunction('convertToInteractive',\n",
              "                                                     [key], {});\n",
              "          if (!dataTable) return;\n",
              "\n",
              "          const docLinkHtml = 'Like what you see? Visit the ' +\n",
              "            '<a target=\"_blank\" href=https://colab.research.google.com/notebooks/data_table.ipynb>data table notebook</a>'\n",
              "            + ' to learn more about interactive tables.';\n",
              "          element.innerHTML = '';\n",
              "          dataTable['output_type'] = 'display_data';\n",
              "          await google.colab.output.renderOutput(dataTable, element);\n",
              "          const docLink = document.createElement('div');\n",
              "          docLink.innerHTML = docLinkHtml;\n",
              "          element.appendChild(docLink);\n",
              "        }\n",
              "      </script>\n",
              "    </div>\n",
              "  </div>\n",
              "  "
            ]
          },
          "metadata": {},
          "execution_count": 13
        }
      ],
      "source": [
        "df.describe()"
      ]
    },
    {
      "cell_type": "code",
      "source": [
        "plt.figure(figsize=(8,7))\n",
        "cols= [\"coral\",\"forestgreen\"]\n",
        "sns.countplot(x= df[\"DEATH_EVENT\"], palette= cols)"
      ],
      "metadata": {
        "colab": {
          "base_uri": "https://localhost:8080/",
          "height": 636
        },
        "id": "TepSHL0-sWPo",
        "outputId": "faf5d12d-af3f-4c97-eac8-bde577cbdab8"
      },
      "id": "TepSHL0-sWPo",
      "execution_count": null,
      "outputs": [
        {
          "output_type": "execute_result",
          "data": {
            "text/plain": [
              "<Axes: xlabel='DEATH_EVENT', ylabel='count'>"
            ]
          },
          "metadata": {},
          "execution_count": 18
        },
        {
          "output_type": "display_data",
          "data": {
            "text/plain": [
              "<Figure size 800x700 with 1 Axes>"
            ],
            "image/png": "[encoded data removed]"
          },
          "metadata": {}
        }
      ]
    },
    {
      "cell_type": "markdown",
      "source": [
        "**Menunjukan bahwa Data imbalance**"
      ],
      "metadata": {
        "id": "48qQ5pYcsaVC"
      },
      "id": "48qQ5pYcsaVC"
    },
    {
      "cell_type": "code",
      "execution_count": null,
      "id": "fc5adb84",
      "metadata": {
        "execution": {
          "iopub.execute_input": "2023-03-28T16:47:12.893082Z",
          "iopub.status.busy": "2023-03-28T16:47:12.892624Z",
          "iopub.status.idle": "2023-03-28T16:47:13.256935Z",
          "shell.execute_reply": "2023-03-28T16:47:13.255821Z"
        },
        "papermill": {
          "duration": 0.379546,
          "end_time": "2023-03-28T16:47:13.259613",
          "exception": false,
          "start_time": "2023-03-28T16:47:12.880067",
          "status": "completed"
        },
        "tags": [],
        "colab": {
          "base_uri": "https://localhost:8080/",
          "height": 673
        },
        "id": "fc5adb84",
        "outputId": "5f531bd6-153d-46bd-fe38-fc3466e24af2"
      },
      "outputs": [
        {
          "output_type": "stream",
          "name": "stderr",
          "text": [
            "<ipython-input-14-f590dae539f6>:1: UserWarning: \n",
            "\n",
            "`distplot` is a deprecated function and will be removed in seaborn v0.14.0.\n",
            "\n",
            "Please adapt your code to use either `displot` (a figure-level function with\n",
            "similar flexibility) or `histplot` (an axes-level function for histograms).\n",
            "\n",
            "For a guide to updating your code to use the new functions, please see\n",
            "https://gist.github.com/mwaskom/de44147ed2974457ad6372750bbe5751\n",
            "\n",
            "  sns.distplot(df['platelets'])\n"
          ]
        },
        {
          "output_type": "execute_result",
          "data": {
            "text/plain": [
              "<Axes: xlabel='platelets', ylabel='Density'>"
            ]
          },
          "metadata": {},
          "execution_count": 14
        },
        {
          "output_type": "display_data",
          "data": {
            "text/plain": [
              "<Figure size 640x480 with 1 Axes>"
            ],
            "image/png": "[encoded data removed]"
          },
          "metadata": {}
        }
      ],
      "source": [
        "sns.distplot(df['platelets'])"
      ]
    },
    {
      "cell_type": "code",
      "source": [
        "corr = df.corr()\n",
        "plt.figure(figsize=(12,10))\n",
        "sns.heatmap(df.corr(), annot=True, cmap='RdYlGn')\n",
        "plt.title(\"Correlation Heatmap\");"
      ],
      "metadata": {
        "colab": {
          "base_uri": "https://localhost:8080/",
          "height": 1000
        },
        "id": "rcfuxb4ysiTc",
        "outputId": "4414ad41-094c-43b8-89ea-3460e3dae581"
      },
      "id": "rcfuxb4ysiTc",
      "execution_count": null,
      "outputs": [
        {
          "output_type": "display_data",
          "data": {
            "text/plain": [
              "<Figure size 1200x1000 with 2 Axes>"
            ],
            "image/png": "[encoded data removed]"
          },
          "metadata": {}
        }
      ]
    },
    {
      "cell_type": "markdown",
      "source": [
        "There is a Negative correlation between time and DEATH_EVENT.\n",
        "\n",
        "Positive correlation between age and DEATH_EVENT & serum_creatinine and DEATH_EVENT.\n",
        "\n",
        "Other variables have Neutral correlation with DEATH_EVENT changes doesn't affect to DEATH_EVENT."
      ],
      "metadata": {
        "id": "tbGVxkBes1q8"
      },
      "id": "tbGVxkBes1q8"
    },
    {
      "cell_type": "markdown",
      "source": [
        "# Data Cleaning"
      ],
      "metadata": {
        "id": "dozflXYUpRcJ"
      },
      "id": "dozflXYUpRcJ"
    },
    {
      "cell_type": "markdown",
      "source": [
        "## Mengecek duplicate"
      ],
      "metadata": {
        "id": "jBJzUhuAtC5w"
      },
      "id": "jBJzUhuAtC5w"
    },
    {
      "cell_type": "code",
      "source": [
        "df.duplicated().sum()"
      ],
      "metadata": {
        "colab": {
          "base_uri": "https://localhost:8080/"
        },
        "id": "H_KppX3ApSrw",
        "outputId": "98681e1b-ae36-4280-8ea5-544f16dd6028"
      },
      "id": "H_KppX3ApSrw",
      "execution_count": null,
      "outputs": [
        {
          "output_type": "execute_result",
          "data": {
            "text/plain": [
              "0"
            ]
          },
          "metadata": {},
          "execution_count": 21
        }
      ]
    },
    {
      "cell_type": "markdown",
      "source": [
        "Tidak ada duplikasi"
      ],
      "metadata": {
        "id": "Of_w6QNBtLAO"
      },
      "id": "Of_w6QNBtLAO"
    },
    {
      "cell_type": "markdown",
      "source": [
        "## Mengecek Nulls"
      ],
      "metadata": {
        "id": "yJVvJbhStN6m"
      },
      "id": "yJVvJbhStN6m"
    },
    {
      "cell_type": "code",
      "source": [
        "df.isnull().sum()"
      ],
      "metadata": {
        "colab": {
          "base_uri": "https://localhost:8080/"
        },
        "id": "8jFSSpPptMQy",
        "outputId": "db553b5c-1086-4d61-e02e-9147be4a5664"
      },
      "id": "8jFSSpPptMQy",
      "execution_count": null,
      "outputs": [
        {
          "output_type": "execute_result",
          "data": {
            "text/plain": [
              "age                         0\n",
              "anaemia                     0\n",
              "creatinine_phosphokinase    0\n",
              "diabetes                    0\n",
              "ejection_fraction           0\n",
              "high_blood_pressure         0\n",
              "platelets                   0\n",
              "serum_creatinine            0\n",
              "serum_sodium                0\n",
              "sex                         0\n",
              "smoking                     0\n",
              "time                        0\n",
              "DEATH_EVENT                 0\n",
              "dtype: int64"
            ]
          },
          "metadata": {},
          "execution_count": 22
        }
      ]
    },
    {
      "cell_type": "markdown",
      "source": [
        "## Handling outliers"
      ],
      "metadata": {
        "id": "EAvmrrVTtUuy"
      },
      "id": "EAvmrrVTtUuy"
    },
    {
      "cell_type": "code",
      "source": [
        "plt.figure(figsize=(13,7))\n",
        "sns.boxplot(x = df.ejection_fraction, color = 'darkgreen')\n",
        "plt.show()"
      ],
      "metadata": {
        "colab": {
          "base_uri": "https://localhost:8080/",
          "height": 619
        },
        "id": "Jt8_mGW-tYbD",
        "outputId": "23a5c4ec-3fd7-4b6e-92c0-7356e16761b8"
      },
      "id": "Jt8_mGW-tYbD",
      "execution_count": null,
      "outputs": [
        {
          "output_type": "display_data",
          "data": {
            "text/plain": [
              "<Figure size 1300x700 with 1 Axes>"
            ],
            "image/png": "[encoded data removed]"
          },
          "metadata": {}
        }
      ]
    },
    {
      "cell_type": "code",
      "source": [
        "x=df[df['ejection_fraction']>=65]\n",
        "x.shape"
      ],
      "metadata": {
        "colab": {
          "base_uri": "https://localhost:8080/"
        },
        "id": "lQW6r-9atcuk",
        "outputId": "47182c43-4ae6-42a1-c131-9a7e179ca9b9"
      },
      "id": "lQW6r-9atcuk",
      "execution_count": null,
      "outputs": [
        {
          "output_type": "execute_result",
          "data": {
            "text/plain": [
              "(3, 13)"
            ]
          },
          "metadata": {},
          "execution_count": 24
        }
      ]
    },
    {
      "cell_type": "code",
      "source": [
        "df=df[df['ejection_fraction']<65]\n",
        "plt.figure(figsize=(13,6))\n",
        "sns.boxplot(x=df.time, color = 'darkgreen')\n",
        "plt.show()"
      ],
      "metadata": {
        "colab": {
          "base_uri": "https://localhost:8080/",
          "height": 542
        },
        "id": "IKAC6T_-te5X",
        "outputId": "f43cafd2-cd88-4697-9218-0de20bf419a3"
      },
      "id": "IKAC6T_-te5X",
      "execution_count": null,
      "outputs": [
        {
          "output_type": "display_data",
          "data": {
            "text/plain": [
              "<Figure size 1300x600 with 1 Axes>"
            ],
            "image/png": "[encoded data removed]"
          },
          "metadata": {}
        }
      ]
    },
    {
      "cell_type": "markdown",
      "source": [
        "**Tidak terdapat outlier pada waktu**"
      ],
      "metadata": {
        "id": "nHg5DOxftp5B"
      },
      "id": "nHg5DOxftp5B"
    },
    {
      "cell_type": "code",
      "source": [
        "plt.figure(figsize=(13,6))\n",
        "sns.boxplot(x=df.serum_creatinine, color = 'darkgreen')\n",
        "plt.show()"
      ],
      "metadata": {
        "colab": {
          "base_uri": "https://localhost:8080/",
          "height": 542
        },
        "id": "5nHQIqbEtuwJ",
        "outputId": "3ac2277b-676c-456e-eb42-3e038a568299"
      },
      "id": "5nHQIqbEtuwJ",
      "execution_count": null,
      "outputs": [
        {
          "output_type": "display_data",
          "data": {
            "text/plain": [
              "<Figure size 1300x600 with 1 Axes>"
            ],
            "image/png": "[encoded data removed]"
          },
          "metadata": {}
        }
      ]
    },
    {
      "cell_type": "markdown",
      "id": "7b73d05f",
      "metadata": {
        "papermill": {
          "duration": 0.012446,
          "end_time": "2023-03-28T16:47:13.855039",
          "exception": false,
          "start_time": "2023-03-28T16:47:13.842593",
          "status": "completed"
        },
        "tags": [],
        "id": "7b73d05f"
      },
      "source": [
        "## Splitting data"
      ]
    },
    {
      "cell_type": "code",
      "execution_count": null,
      "id": "2154c5e7",
      "metadata": {
        "execution": {
          "iopub.execute_input": "2023-03-28T16:47:13.881801Z",
          "iopub.status.busy": "2023-03-28T16:47:13.881368Z",
          "iopub.status.idle": "2023-03-28T16:47:13.887502Z",
          "shell.execute_reply": "2023-03-28T16:47:13.886323Z"
        },
        "papermill": {
          "duration": 0.023086,
          "end_time": "2023-03-28T16:47:13.890179",
          "exception": false,
          "start_time": "2023-03-28T16:47:13.867093",
          "status": "completed"
        },
        "tags": [],
        "id": "2154c5e7"
      },
      "outputs": [],
      "source": [
        "x=df.drop([\"DEATH_EVENT\"],axis=1)\n",
        "y=df[\"DEATH_EVENT\"]"
      ]
    },
    {
      "cell_type": "code",
      "source": [
        "from sklearn.model_selection import train_test_split\n",
        "xtrain, xtest, ytrain, ytest = train_test_split(x, y, test_size=0.25, random_state=42)\n",
        "print(xtrain.shape)\n",
        "print(xtest.shape)"
      ],
      "metadata": {
        "colab": {
          "base_uri": "https://localhost:8080/"
        },
        "id": "SRCXj8GOuAH3",
        "outputId": "ee13b1eb-c8af-4fbb-904c-5aa586ad9626"
      },
      "id": "SRCXj8GOuAH3",
      "execution_count": null,
      "outputs": [
        {
          "output_type": "stream",
          "name": "stdout",
          "text": [
            "(222, 12)\n",
            "(74, 12)\n"
          ]
        }
      ]
    },
    {
      "cell_type": "code",
      "source": [
        "df.info()"
      ],
      "metadata": {
        "colab": {
          "base_uri": "https://localhost:8080/"
        },
        "id": "8odmUlaCuEOY",
        "outputId": "cf31ce05-fc45-44f7-845d-61d65461c7c6"
      },
      "id": "8odmUlaCuEOY",
      "execution_count": null,
      "outputs": [
        {
          "output_type": "stream",
          "name": "stdout",
          "text": [
            "<class 'pandas.core.frame.DataFrame'>\n",
            "Int64Index: 296 entries, 0 to 298\n",
            "Data columns (total 13 columns):\n",
            " #   Column                    Non-Null Count  Dtype  \n",
            "---  ------                    --------------  -----  \n",
            " 0   age                       296 non-null    float64\n",
            " 1   anaemia                   296 non-null    int64  \n",
            " 2   creatinine_phosphokinase  296 non-null    int64  \n",
            " 3   diabetes                  296 non-null    int64  \n",
            " 4   ejection_fraction         296 non-null    int64  \n",
            " 5   high_blood_pressure       296 non-null    int64  \n",
            " 6   platelets                 296 non-null    float64\n",
            " 7   serum_creatinine          296 non-null    float64\n",
            " 8   serum_sodium              296 non-null    int64  \n",
            " 9   sex                       296 non-null    int64  \n",
            " 10  smoking                   296 non-null    int64  \n",
            " 11  time                      296 non-null    int64  \n",
            " 12  DEATH_EVENT               296 non-null    int64  \n",
            "dtypes: float64(3), int64(10)\n",
            "memory usage: 32.4 KB\n"
          ]
        }
      ]
    },
    {
      "cell_type": "markdown",
      "source": [
        "## Scalling data (Preprocessing)"
      ],
      "metadata": {
        "id": "AuG2rX-XuNjQ"
      },
      "id": "AuG2rX-XuNjQ"
    },
    {
      "cell_type": "code",
      "execution_count": null,
      "id": "d4bbaede",
      "metadata": {
        "execution": {
          "iopub.execute_input": "2023-03-28T16:47:13.917724Z",
          "iopub.status.busy": "2023-03-28T16:47:13.917276Z",
          "iopub.status.idle": "2023-03-28T16:47:13.925957Z",
          "shell.execute_reply": "2023-03-28T16:47:13.924720Z"
        },
        "papermill": {
          "duration": 0.024916,
          "end_time": "2023-03-28T16:47:13.928257",
          "exception": false,
          "start_time": "2023-03-28T16:47:13.903341",
          "status": "completed"
        },
        "tags": [],
        "colab": {
          "base_uri": "https://localhost:8080/",
          "height": 75
        },
        "id": "d4bbaede",
        "outputId": "6a2397a0-cc75-44eb-f9b0-790857fb0d98"
      },
      "outputs": [
        {
          "output_type": "execute_result",
          "data": {
            "text/plain": [
              "MinMaxScaler()"
            ],
            "text/html": [
              "<style>#sk-container-id-2 {color: black;background-color: white;}#sk-container-id-2 pre{padding: 0;}#sk-container-id-2 div.sk-toggleable {background-color: white;}#sk-container-id-2 label.sk-toggleable__label {cursor: pointer;display: block;width: 100%;margin-bottom: 0;padding: 0.3em;box-sizing: border-box;text-align: center;}#sk-container-id-2 label.sk-toggleable__label-arrow:before {content: \"▸\";float: left;margin-right: 0.25em;color: #696969;}#sk-container-id-2 label.sk-toggleable__label-arrow:hover:before {color: black;}#sk-container-id-2 div.sk-estimator:hover label.sk-toggleable__label-arrow:before {color: black;}#sk-container-id-2 div.sk-toggleable__content {max-height: 0;max-width: 0;overflow: hidden;text-align: left;background-color: #f0f8ff;}#sk-container-id-2 div.sk-toggleable__content pre {margin: 0.2em;color: black;border-radius: 0.25em;background-color: #f0f8ff;}#sk-container-id-2 input.sk-toggleable__control:checked~div.sk-toggleable__content {max-height: 200px;max-width: 100%;overflow: auto;}#sk-container-id-2 input.sk-toggleable__control:checked~label.sk-toggleable__label-arrow:before {content: \"▾\";}#sk-container-id-2 div.sk-estimator input.sk-toggleable__control:checked~label.sk-toggleable__label {background-color: #d4ebff;}#sk-container-id-2 div.sk-label input.sk-toggleable__control:checked~label.sk-toggleable__label {background-color: #d4ebff;}#sk-container-id-2 input.sk-hidden--visually {border: 0;clip: rect(1px 1px 1px 1px);clip: rect(1px, 1px, 1px, 1px);height: 1px;margin: -1px;overflow: hidden;padding: 0;position: absolute;width: 1px;}#sk-container-id-2 div.sk-estimator {font-family: monospace;background-color: #f0f8ff;border: 1px dotted black;border-radius: 0.25em;box-sizing: border-box;margin-bottom: 0.5em;}#sk-container-id-2 div.sk-estimator:hover {background-color: #d4ebff;}#sk-container-id-2 div.sk-parallel-item::after {content: \"\";width: 100%;border-bottom: 1px solid gray;flex-grow: 1;}#sk-container-id-2 div.sk-label:hover label.sk-toggleable__label {background-color: #d4ebff;}#sk-container-id-2 div.sk-serial::before {content: \"\";position: absolute;border-left: 1px solid gray;box-sizing: border-box;top: 0;bottom: 0;left: 50%;z-index: 0;}#sk-container-id-2 div.sk-serial {display: flex;flex-direction: column;align-items: center;background-color: white;padding-right: 0.2em;padding-left: 0.2em;position: relative;}#sk-container-id-2 div.sk-item {position: relative;z-index: 1;}#sk-container-id-2 div.sk-parallel {display: flex;align-items: stretch;justify-content: center;background-color: white;position: relative;}#sk-container-id-2 div.sk-item::before, #sk-container-id-2 div.sk-parallel-item::before {content: \"\";position: absolute;border-left: 1px solid gray;box-sizing: border-box;top: 0;bottom: 0;left: 50%;z-index: -1;}#sk-container-id-2 div.sk-parallel-item {display: flex;flex-direction: column;z-index: 1;position: relative;background-color: white;}#sk-container-id-2 div.sk-parallel-item:first-child::after {align-self: flex-end;width: 50%;}#sk-container-id-2 div.sk-parallel-item:last-child::after {align-self: flex-start;width: 50%;}#sk-container-id-2 div.sk-parallel-item:only-child::after {width: 0;}#sk-container-id-2 div.sk-dashed-wrapped {border: 1px dashed gray;margin: 0 0.4em 0.5em 0.4em;box-sizing: border-box;padding-bottom: 0.4em;background-color: white;}#sk-container-id-2 div.sk-label label {font-family: monospace;font-weight: bold;display: inline-block;line-height: 1.2em;}#sk-container-id-2 div.sk-label-container {text-align: center;}#sk-container-id-2 div.sk-container {/* jupyter's `normalize.less` sets `[hidden] { display: none; }` but bootstrap.min.css set `[hidden] { display: none !important; }` so we also need the `!important` here to be able to override the default hidden behavior on the sphinx rendered scikit-learn.org. See: https://github.com/scikit-learn/scikit-learn/issues/21755 */display: inline-block !important;position: relative;}#sk-container-id-2 div.sk-text-repr-fallback {display: none;}</style><div id=\"sk-container-id-2\" class=\"sk-top-container\"><div class=\"sk-text-repr-fallback\"><pre>MinMaxScaler()</pre><b>In a Jupyter environment, please rerun this cell to show the HTML representation or trust the notebook. <br />On GitHub, the HTML representation is unable to render, please try loading this page with nbviewer.org.</b></div><div class=\"sk-container\" hidden><div class=\"sk-item\"><div class=\"sk-estimator sk-toggleable\"><input class=\"sk-toggleable__control sk-hidden--visually\" id=\"sk-estimator-id-2\" type=\"checkbox\" checked><label for=\"sk-estimator-id-2\" class=\"sk-toggleable__label sk-toggleable__label-arrow\">MinMaxScaler</label><div class=\"sk-toggleable__content\"><pre>MinMaxScaler()</pre></div></div></div></div></div>"
            ]
          },
          "metadata": {},
          "execution_count": 36
        }
      ],
      "source": [
        "from sklearn.preprocessing import MinMaxScaler\n",
        "scaler = MinMaxScaler()\n",
        "scaler.fit(xtrain)"
      ]
    },
    {
      "cell_type": "code",
      "source": [
        "xtrain = scaler.transform(xtrain)\n",
        "xtest = scaler.transform(xtest)"
      ],
      "metadata": {
        "id": "U7T4vxFDuVj_"
      },
      "id": "U7T4vxFDuVj_",
      "execution_count": null,
      "outputs": []
    },
    {
      "cell_type": "code",
      "execution_count": null,
      "id": "a7f7f268",
      "metadata": {
        "execution": {
          "iopub.execute_input": "2023-03-28T16:47:14.103718Z",
          "iopub.status.busy": "2023-03-28T16:47:14.102808Z",
          "iopub.status.idle": "2023-03-28T16:47:14.110014Z",
          "shell.execute_reply": "2023-03-28T16:47:14.108618Z"
        },
        "papermill": {
          "duration": 0.023427,
          "end_time": "2023-03-28T16:47:14.112625",
          "exception": false,
          "start_time": "2023-03-28T16:47:14.089198",
          "status": "completed"
        },
        "tags": [],
        "id": "a7f7f268"
      },
      "outputs": [],
      "source": [
        "# Creating Function\n",
        "def predict(model):\n",
        "    model.fit(xtrain,ytrain)\n",
        "    ypred=model.predict(xtest)\n",
        "    trainac=model.score(xtrain,ytrain)\n",
        "    testac=model.score(xtest,ytest)\n",
        "\n",
        "    print(f\"Training Accuracy {trainac}\\nTesting Accuracy {testac}\")\n",
        ""
      ]
    },
    {
      "cell_type": "markdown",
      "source": [
        "# MODEL BUILDING"
      ],
      "metadata": {
        "id": "PaMl02gmvQQw"
      },
      "id": "PaMl02gmvQQw"
    },
    {
      "cell_type": "markdown",
      "source": [
        "# KNN"
      ],
      "metadata": {
        "id": "j4DljAKz4pEm"
      },
      "id": "j4DljAKz4pEm"
    },
    {
      "cell_type": "code",
      "execution_count": null,
      "id": "c7e3eb51",
      "metadata": {
        "execution": {
          "iopub.execute_input": "2023-03-28T16:47:14.139586Z",
          "iopub.status.busy": "2023-03-28T16:47:14.139122Z",
          "iopub.status.idle": "2023-03-28T16:47:14.163736Z",
          "shell.execute_reply": "2023-03-28T16:47:14.162130Z"
        },
        "papermill": {
          "duration": 0.041644,
          "end_time": "2023-03-28T16:47:14.166627",
          "exception": false,
          "start_time": "2023-03-28T16:47:14.124983",
          "status": "completed"
        },
        "tags": [],
        "colab": {
          "base_uri": "https://localhost:8080/"
        },
        "id": "c7e3eb51",
        "outputId": "8116e165-8033-41ae-dfd9-3bf5b92653f6"
      },
      "outputs": [
        {
          "output_type": "stream",
          "name": "stdout",
          "text": [
            "Triaing Accuracy 0.7723214285714286\n",
            "Testing Accuracy 0.7733333333333333\n"
          ]
        }
      ],
      "source": [
        "# KNN\n",
        "model_knn=KNeighborsClassifier(n_neighbors=6)\n",
        "model_knn.fit(xtrain,ytrain)\n",
        "ypred_knn=model_knn.predict(xtest)\n",
        "trainac_knn=model_knn.score(xtrain,ytrain)\n",
        "testac_knn=model_knn.score(xtest,ytest)\n",
        "print(f\"Triaing Accuracy {trainac_knn}\\nTesting Accuracy {testac_knn}\")"
      ]
    },
    {
      "cell_type": "code",
      "execution_count": null,
      "id": "c5029783",
      "metadata": {
        "execution": {
          "iopub.execute_input": "2023-03-28T16:47:14.194332Z",
          "iopub.status.busy": "2023-03-28T16:47:14.193932Z",
          "iopub.status.idle": "2023-03-28T16:47:14.493383Z",
          "shell.execute_reply": "2023-03-28T16:47:14.492121Z"
        },
        "papermill": {
          "duration": 0.317211,
          "end_time": "2023-03-28T16:47:14.496510",
          "exception": false,
          "start_time": "2023-03-28T16:47:14.179299",
          "status": "completed"
        },
        "tags": [],
        "id": "c5029783"
      },
      "outputs": [],
      "source": [
        "trainac=[]\n",
        "testac=[]\n",
        "\n",
        "for i in range(1,20):\n",
        "    knn=KNeighborsClassifier(n_neighbors=i)\n",
        "    knn.fit(xtrain,ytrain)\n",
        "    ypred=knn.predict(xtest)\n",
        "\n",
        "    trainac.append(knn.score(xtrain,ytrain))\n",
        "    testac.append(knn.score(xtest,ytest))"
      ]
    },
    {
      "cell_type": "code",
      "execution_count": null,
      "id": "c191fa58",
      "metadata": {
        "execution": {
          "iopub.execute_input": "2023-03-28T16:47:14.524181Z",
          "iopub.status.busy": "2023-03-28T16:47:14.523711Z",
          "iopub.status.idle": "2023-03-28T16:47:14.841238Z",
          "shell.execute_reply": "2023-03-28T16:47:14.839790Z"
        },
        "papermill": {
          "duration": 0.334758,
          "end_time": "2023-03-28T16:47:14.844034",
          "exception": false,
          "start_time": "2023-03-28T16:47:14.509276",
          "status": "completed"
        },
        "tags": [],
        "colab": {
          "base_uri": "https://localhost:8080/",
          "height": 449
        },
        "id": "c191fa58",
        "outputId": "c07b3782-d079-40d1-c790-02f523137b45"
      },
      "outputs": [
        {
          "output_type": "display_data",
          "data": {
            "text/plain": [
              "<Figure size 640x480 with 1 Axes>"
            ],
            "image/png": "[encoded data removed]"
          },
          "metadata": {}
        }
      ],
      "source": [
        "import seaborn as sns\n",
        "import matplotlib.pyplot as plt\n",
        "\n",
        "sns.set_style(style='darkgrid')\n",
        "\n",
        "plt.plot(range(1,20), trainac, label='Training Accuracy')\n",
        "plt.plot(range(1,20), testac, label='Testing Accuracy')\n",
        "plt.xlabel('Number of K')\n",
        "plt.ylabel('Accuracy')\n",
        "plt.legend()\n",
        "\n",
        "plt.show()"
      ]
    },
    {
      "cell_type": "markdown",
      "source": [
        "# RANDOM FOREST CLASSIFIER"
      ],
      "metadata": {
        "id": "Ovo5yEfx4q1J"
      },
      "id": "Ovo5yEfx4q1J"
    },
    {
      "cell_type": "code",
      "execution_count": null,
      "id": "bde27a3b",
      "metadata": {
        "execution": {
          "iopub.execute_input": "2023-03-28T16:47:14.873588Z",
          "iopub.status.busy": "2023-03-28T16:47:14.872623Z",
          "iopub.status.idle": "2023-03-28T16:47:15.080643Z",
          "shell.execute_reply": "2023-03-28T16:47:15.078938Z"
        },
        "papermill": {
          "duration": 0.225644,
          "end_time": "2023-03-28T16:47:15.083423",
          "exception": false,
          "start_time": "2023-03-28T16:47:14.857779",
          "status": "completed"
        },
        "tags": [],
        "colab": {
          "base_uri": "https://localhost:8080/"
        },
        "id": "bde27a3b",
        "outputId": "a243d063-9417-458c-eaf2-32cf87bf9ea1"
      },
      "outputs": [
        {
          "output_type": "stream",
          "name": "stdout",
          "text": [
            "Training Accuracy 1.0\n",
            "Testing Accuracy 0.9333333333333333\n"
          ]
        }
      ],
      "source": [
        "# Random Forest Classifier\n",
        "\n",
        "model_rf=RandomForestClassifier()\n",
        "model_rf.fit(xtrain,ytrain)\n",
        "ypred_rf=model_rf.predict(xtest)\n",
        "trainac_rf=model_rf.score(xtrain,ytrain)\n",
        "testac_rf=model_rf.score(xtest,ytest)\n",
        "print(f\"Training Accuracy {trainac_rf}\\nTesting Accuracy {testac_rf}\")"
      ]
    },
    {
      "cell_type": "markdown",
      "source": [
        "A training accuracy of 1.0 (or 100%) suggests that the model has overfit the training data"
      ],
      "metadata": {
        "id": "JyhsXHsd4gLM"
      },
      "id": "JyhsXHsd4gLM"
    },
    {
      "cell_type": "markdown",
      "source": [
        "# SVC"
      ],
      "metadata": {
        "id": "mxP45HPl4lT4"
      },
      "id": "mxP45HPl4lT4"
    },
    {
      "cell_type": "code",
      "execution_count": null,
      "id": "d4dc00eb",
      "metadata": {
        "execution": {
          "iopub.execute_input": "2023-03-28T16:47:15.112284Z",
          "iopub.status.busy": "2023-03-28T16:47:15.111130Z",
          "iopub.status.idle": "2023-03-28T16:47:15.117423Z",
          "shell.execute_reply": "2023-03-28T16:47:15.116413Z"
        },
        "papermill": {
          "duration": 0.02313,
          "end_time": "2023-03-28T16:47:15.119801",
          "exception": false,
          "start_time": "2023-03-28T16:47:15.096671",
          "status": "completed"
        },
        "tags": [],
        "id": "d4dc00eb"
      },
      "outputs": [],
      "source": [
        "from sklearn.svm import SVC"
      ]
    },
    {
      "cell_type": "code",
      "execution_count": null,
      "id": "28cdbe0f",
      "metadata": {
        "execution": {
          "iopub.execute_input": "2023-03-28T16:47:15.147949Z",
          "iopub.status.busy": "2023-03-28T16:47:15.147532Z",
          "iopub.status.idle": "2023-03-28T16:47:15.165022Z",
          "shell.execute_reply": "2023-03-28T16:47:15.163501Z"
        },
        "papermill": {
          "duration": 0.034857,
          "end_time": "2023-03-28T16:47:15.167861",
          "exception": false,
          "start_time": "2023-03-28T16:47:15.133004",
          "status": "completed"
        },
        "tags": [],
        "colab": {
          "base_uri": "https://localhost:8080/"
        },
        "id": "28cdbe0f",
        "outputId": "6ae04611-8069-4012-8588-e43bd13a5026"
      },
      "outputs": [
        {
          "output_type": "stream",
          "name": "stdout",
          "text": [
            "Training Accuracy 0.8883928571428571\n",
            "Testing Accuracy 0.88\n"
          ]
        }
      ],
      "source": [
        "# SVC\n",
        "model_SVC_rbf=SVC(kernel='rbf')\n",
        "model_SVC_rbf.fit(xtrain,ytrain)\n",
        "ypred_SVC_rbf=model_SVC_rbf.predict(xtest)\n",
        "trainac_SVC_rbf=model_SVC_rbf.score(xtrain,ytrain)\n",
        "testac_SVC_rbf=model_SVC_rbf.score(xtest,ytest)\n",
        "print(f\"Training Accuracy {trainac_SVC_rbf}\\nTesting Accuracy {testac_SVC_rbf}\")"
      ]
    },
    {
      "cell_type": "code",
      "execution_count": null,
      "id": "01615306",
      "metadata": {
        "execution": {
          "iopub.execute_input": "2023-03-28T16:47:15.196085Z",
          "iopub.status.busy": "2023-03-28T16:47:15.195626Z",
          "iopub.status.idle": "2023-03-28T16:47:15.210448Z",
          "shell.execute_reply": "2023-03-28T16:47:15.208815Z"
        },
        "papermill": {
          "duration": 0.031925,
          "end_time": "2023-03-28T16:47:15.213013",
          "exception": false,
          "start_time": "2023-03-28T16:47:15.181088",
          "status": "completed"
        },
        "tags": [],
        "colab": {
          "base_uri": "https://localhost:8080/"
        },
        "id": "01615306",
        "outputId": "3ddc1bab-6a0c-4a66-d82c-dd1209d7e515"
      },
      "outputs": [
        {
          "output_type": "stream",
          "name": "stdout",
          "text": [
            "Training Accuracy 0.8616071428571429\n",
            "Testing Accuracy 0.7866666666666666\n"
          ]
        }
      ],
      "source": [
        "model_SVC_poly=SVC(kernel='poly')\n",
        "model_SVC_poly.fit(xtrain,ytrain)\n",
        "ypred_SVC_poly=model_SVC_poly.predict(xtest)\n",
        "trainac_SVC_poly=model_SVC_poly.score(xtrain,ytrain)\n",
        "testac_SVC_poly=model_SVC_poly.score(xtest,ytest)\n",
        "print(f\"Training Accuracy {trainac_SVC_poly}\\nTesting Accuracy {testac_SVC_poly}\")"
      ]
    },
    {
      "cell_type": "code",
      "execution_count": null,
      "id": "4e797d24",
      "metadata": {
        "execution": {
          "iopub.execute_input": "2023-03-28T16:47:15.241693Z",
          "iopub.status.busy": "2023-03-28T16:47:15.241227Z",
          "iopub.status.idle": "2023-03-28T16:47:15.254546Z",
          "shell.execute_reply": "2023-03-28T16:47:15.252918Z"
        },
        "papermill": {
          "duration": 0.03089,
          "end_time": "2023-03-28T16:47:15.257263",
          "exception": false,
          "start_time": "2023-03-28T16:47:15.226373",
          "status": "completed"
        },
        "tags": [],
        "colab": {
          "base_uri": "https://localhost:8080/"
        },
        "id": "4e797d24",
        "outputId": "394af780-b4e3-474a-ef45-ad623d768af0"
      },
      "outputs": [
        {
          "output_type": "stream",
          "name": "stdout",
          "text": [
            "Training Accuracy 0.8258928571428571\n",
            "Testing Accuracy 0.8666666666666667\n"
          ]
        }
      ],
      "source": [
        "model_SVC_linear=SVC(kernel='linear')\n",
        "model_SVC_linear.fit(xtrain,ytrain)\n",
        "ypred_SVC_linear=model_SVC_linear.predict(xtest)\n",
        "trainac_SVC_linear=model_SVC_linear.score(xtrain,ytrain)\n",
        "testac_SVC_linear=model_SVC_linear.score(xtest,ytest)\n",
        "print(f\"Training Accuracy {trainac_SVC_linear}\\nTesting Accuracy {testac_SVC_linear}\")"
      ]
    },
    {
      "cell_type": "code",
      "execution_count": null,
      "id": "cd016c29",
      "metadata": {
        "execution": {
          "iopub.execute_input": "2023-03-28T16:47:15.286198Z",
          "iopub.status.busy": "2023-03-28T16:47:15.285781Z",
          "iopub.status.idle": "2023-03-28T16:47:15.301768Z",
          "shell.execute_reply": "2023-03-28T16:47:15.300418Z"
        },
        "papermill": {
          "duration": 0.033713,
          "end_time": "2023-03-28T16:47:15.304444",
          "exception": false,
          "start_time": "2023-03-28T16:47:15.270731",
          "status": "completed"
        },
        "tags": [],
        "colab": {
          "base_uri": "https://localhost:8080/"
        },
        "id": "cd016c29",
        "outputId": "069e59fe-046d-48cc-e6d3-3ed1177a1579"
      },
      "outputs": [
        {
          "output_type": "stream",
          "name": "stdout",
          "text": [
            "Training Accuracy 0.78125\n",
            "Testing Accuracy 0.8266666666666667\n"
          ]
        }
      ],
      "source": [
        "\n",
        "\n",
        "model_SVC_sigmoid=SVC(kernel='sigmoid')\n",
        "model_SVC_sigmoid.fit(xtrain,ytrain)\n",
        "ypred_SVC_sigmoid=model_SVC_sigmoid.predict(xtest)\n",
        "trainac_SVC_sigmoid=model_SVC_sigmoid.score(xtrain,ytrain)\n",
        "testac_SVC_sigmoid=model_SVC_sigmoid.score(xtest,ytest)\n",
        "print(f\"Training Accuracy {trainac_SVC_sigmoid}\\nTesting Accuracy {testac_SVC_sigmoid}\")"
      ]
    },
    {
      "cell_type": "markdown",
      "source": [
        "# Logistic Regression"
      ],
      "metadata": {
        "id": "ZuCDKmUd4-Gx"
      },
      "id": "ZuCDKmUd4-Gx"
    },
    {
      "cell_type": "code",
      "execution_count": null,
      "id": "f91a20e9",
      "metadata": {
        "execution": {
          "iopub.execute_input": "2023-03-28T16:47:15.333732Z",
          "iopub.status.busy": "2023-03-28T16:47:15.333297Z",
          "iopub.status.idle": "2023-03-28T16:47:15.338863Z",
          "shell.execute_reply": "2023-03-28T16:47:15.337806Z"
        },
        "papermill": {
          "duration": 0.02326,
          "end_time": "2023-03-28T16:47:15.341430",
          "exception": false,
          "start_time": "2023-03-28T16:47:15.318170",
          "status": "completed"
        },
        "tags": [],
        "id": "f91a20e9"
      },
      "outputs": [],
      "source": [
        "from sklearn.linear_model import LogisticRegression"
      ]
    },
    {
      "cell_type": "code",
      "execution_count": null,
      "id": "4190fcd1",
      "metadata": {
        "execution": {
          "iopub.execute_input": "2023-03-28T16:47:15.371203Z",
          "iopub.status.busy": "2023-03-28T16:47:15.370096Z",
          "iopub.status.idle": "2023-03-28T16:47:15.387005Z",
          "shell.execute_reply": "2023-03-28T16:47:15.385591Z"
        },
        "papermill": {
          "duration": 0.035043,
          "end_time": "2023-03-28T16:47:15.389971",
          "exception": false,
          "start_time": "2023-03-28T16:47:15.354928",
          "status": "completed"
        },
        "tags": [],
        "colab": {
          "base_uri": "https://localhost:8080/"
        },
        "id": "4190fcd1",
        "outputId": "c378a606-8c0e-4d90-c586-10112aa7b825"
      },
      "outputs": [
        {
          "output_type": "stream",
          "name": "stdout",
          "text": [
            "Training Accuracy 0.78125\n",
            "Testing Accuracy 0.8266666666666667\n"
          ]
        }
      ],
      "source": [
        "model_LR=LogisticRegression()\n",
        "model_LR.fit(xtrain,ytrain)\n",
        "ypred_LR=model_SVC_sigmoid.predict(xtest)\n",
        "trainac_LR=model_SVC_sigmoid.score(xtrain,ytrain)\n",
        "testac_LR=model_SVC_sigmoid.score(xtest,ytest)\n",
        "print(f\"Training Accuracy {trainac_LR}\\nTesting Accuracy {testac_LR}\")"
      ]
    },
    {
      "cell_type": "code",
      "execution_count": null,
      "id": "55680332",
      "metadata": {
        "execution": {
          "iopub.execute_input": "2023-03-28T16:47:15.419369Z",
          "iopub.status.busy": "2023-03-28T16:47:15.418910Z",
          "iopub.status.idle": "2023-03-28T16:47:24.135242Z",
          "shell.execute_reply": "2023-03-28T16:47:24.133832Z"
        },
        "papermill": {
          "duration": 8.735059,
          "end_time": "2023-03-28T16:47:24.138576",
          "exception": false,
          "start_time": "2023-03-28T16:47:15.403517",
          "status": "completed"
        },
        "tags": [],
        "id": "55680332"
      },
      "outputs": [],
      "source": [
        "from keras.models import Sequential\n",
        "from keras.layers import Dense\n",
        "from keras.optimizers import Adam\n",
        "from keras.callbacks import EarlyStopping"
      ]
    },
    {
      "cell_type": "code",
      "execution_count": null,
      "id": "33658d3e",
      "metadata": {
        "execution": {
          "iopub.execute_input": "2023-03-28T16:47:24.198018Z",
          "iopub.status.busy": "2023-03-28T16:47:24.197068Z",
          "iopub.status.idle": "2023-03-28T16:47:24.324242Z",
          "shell.execute_reply": "2023-03-28T16:47:24.323128Z"
        },
        "papermill": {
          "duration": 0.145706,
          "end_time": "2023-03-28T16:47:24.327111",
          "exception": false,
          "start_time": "2023-03-28T16:47:24.181405",
          "status": "completed"
        },
        "tags": [],
        "id": "33658d3e"
      },
      "outputs": [],
      "source": [
        "model=Sequential()\n",
        "model.add(Dense(18,activation='relu'))\n",
        "model.add(Dense(8,activation='relu'))\n",
        "model.add(Dense(1,activation='sigmoid'))"
      ]
    },
    {
      "cell_type": "code",
      "execution_count": null,
      "id": "e7399d9e",
      "metadata": {
        "execution": {
          "iopub.execute_input": "2023-03-28T16:47:24.356514Z",
          "iopub.status.busy": "2023-03-28T16:47:24.356098Z",
          "iopub.status.idle": "2023-03-28T16:47:24.391678Z",
          "shell.execute_reply": "2023-03-28T16:47:24.390151Z"
        },
        "papermill": {
          "duration": 0.053978,
          "end_time": "2023-03-28T16:47:24.394810",
          "exception": false,
          "start_time": "2023-03-28T16:47:24.340832",
          "status": "completed"
        },
        "tags": [],
        "id": "e7399d9e"
      },
      "outputs": [],
      "source": [
        "model.compile(loss='binary_crossentropy',optimizer='adam',metrics=['accuracy'])"
      ]
    },
    {
      "cell_type": "code",
      "execution_count": null,
      "id": "ecb47c65",
      "metadata": {
        "execution": {
          "iopub.execute_input": "2023-03-28T16:47:24.426248Z",
          "iopub.status.busy": "2023-03-28T16:47:24.425519Z",
          "iopub.status.idle": "2023-03-28T16:47:49.578387Z",
          "shell.execute_reply": "2023-03-28T16:47:49.576796Z"
        },
        "papermill": {
          "duration": 25.172075,
          "end_time": "2023-03-28T16:47:49.581301",
          "exception": false,
          "start_time": "2023-03-28T16:47:24.409226",
          "status": "completed"
        },
        "tags": [],
        "colab": {
          "base_uri": "https://localhost:8080/"
        },
        "id": "ecb47c65",
        "outputId": "69db1a42-8315-46e3-85e1-6d2f8ed1d14c"
      },
      "outputs": [
        {
          "output_type": "stream",
          "name": "stdout",
          "text": [
            "Epoch 1/300\n",
            "16/16 [==============================] - 2s 19ms/step - loss: 0.6519 - accuracy: 0.6090 - val_loss: 0.6786 - val_accuracy: 0.6324\n",
            "Epoch 2/300\n",
            "16/16 [==============================] - 0s 5ms/step - loss: 0.6125 - accuracy: 0.7179 - val_loss: 0.6355 - val_accuracy: 0.6765\n",
            "Epoch 3/300\n",
            "16/16 [==============================] - 0s 4ms/step - loss: 0.5807 - accuracy: 0.7821 - val_loss: 0.6076 - val_accuracy: 0.6618\n",
            "Epoch 4/300\n",
            "16/16 [==============================] - 0s 4ms/step - loss: 0.5544 - accuracy: 0.8077 - val_loss: 0.5833 - val_accuracy: 0.6912\n",
            "Epoch 5/300\n",
            "16/16 [==============================] - 0s 5ms/step - loss: 0.5335 - accuracy: 0.8077 - val_loss: 0.5617 - val_accuracy: 0.7206\n",
            "Epoch 6/300\n",
            "16/16 [==============================] - 0s 5ms/step - loss: 0.5125 - accuracy: 0.8269 - val_loss: 0.5497 - val_accuracy: 0.7206\n",
            "Epoch 7/300\n",
            "16/16 [==============================] - 0s 5ms/step - loss: 0.4968 - accuracy: 0.8205 - val_loss: 0.5337 - val_accuracy: 0.7500\n",
            "Epoch 8/300\n",
            "16/16 [==============================] - 0s 5ms/step - loss: 0.4799 - accuracy: 0.8269 - val_loss: 0.5244 - val_accuracy: 0.7500\n",
            "Epoch 9/300\n",
            "16/16 [==============================] - 0s 5ms/step - loss: 0.4656 - accuracy: 0.8333 - val_loss: 0.5160 - val_accuracy: 0.7500\n",
            "Epoch 10/300\n",
            "16/16 [==============================] - 0s 5ms/step - loss: 0.4521 - accuracy: 0.8397 - val_loss: 0.5095 - val_accuracy: 0.7353\n",
            "Epoch 11/300\n",
            "16/16 [==============================] - 0s 5ms/step - loss: 0.4400 - accuracy: 0.8397 - val_loss: 0.5008 - val_accuracy: 0.7500\n",
            "Epoch 12/300\n",
            "16/16 [==============================] - 0s 5ms/step - loss: 0.4295 - accuracy: 0.8397 - val_loss: 0.4953 - val_accuracy: 0.7647\n",
            "Epoch 13/300\n",
            "16/16 [==============================] - 0s 5ms/step - loss: 0.4186 - accuracy: 0.8462 - val_loss: 0.4895 - val_accuracy: 0.7647\n",
            "Epoch 14/300\n",
            "16/16 [==============================] - 0s 5ms/step - loss: 0.4092 - accuracy: 0.8462 - val_loss: 0.4851 - val_accuracy: 0.7500\n",
            "Epoch 15/300\n",
            "16/16 [==============================] - 0s 5ms/step - loss: 0.4005 - accuracy: 0.8462 - val_loss: 0.4808 - val_accuracy: 0.7500\n",
            "Epoch 16/300\n",
            "16/16 [==============================] - 0s 4ms/step - loss: 0.3926 - accuracy: 0.8462 - val_loss: 0.4797 - val_accuracy: 0.7500\n",
            "Epoch 17/300\n",
            "16/16 [==============================] - 0s 5ms/step - loss: 0.3836 - accuracy: 0.8526 - val_loss: 0.4752 - val_accuracy: 0.7500\n",
            "Epoch 18/300\n",
            "16/16 [==============================] - 0s 4ms/step - loss: 0.3763 - accuracy: 0.8526 - val_loss: 0.4717 - val_accuracy: 0.7500\n",
            "Epoch 19/300\n",
            "16/16 [==============================] - 0s 4ms/step - loss: 0.3704 - accuracy: 0.8590 - val_loss: 0.4724 - val_accuracy: 0.7353\n",
            "Epoch 20/300\n",
            "16/16 [==============================] - 0s 4ms/step - loss: 0.3632 - accuracy: 0.8654 - val_loss: 0.4694 - val_accuracy: 0.7500\n",
            "Epoch 21/300\n",
            "16/16 [==============================] - 0s 5ms/step - loss: 0.3573 - accuracy: 0.8718 - val_loss: 0.4673 - val_accuracy: 0.7353\n",
            "Epoch 22/300\n",
            "16/16 [==============================] - 0s 4ms/step - loss: 0.3513 - accuracy: 0.8654 - val_loss: 0.4676 - val_accuracy: 0.7353\n",
            "Epoch 23/300\n",
            "16/16 [==============================] - 0s 4ms/step - loss: 0.3467 - accuracy: 0.8654 - val_loss: 0.4675 - val_accuracy: 0.7353\n",
            "Epoch 24/300\n",
            "16/16 [==============================] - 0s 5ms/step - loss: 0.3417 - accuracy: 0.8718 - val_loss: 0.4677 - val_accuracy: 0.7353\n",
            "Epoch 25/300\n",
            "16/16 [==============================] - 0s 4ms/step - loss: 0.3379 - accuracy: 0.8718 - val_loss: 0.4702 - val_accuracy: 0.7353\n",
            "Epoch 26/300\n",
            "16/16 [==============================] - 0s 5ms/step - loss: 0.3330 - accuracy: 0.8718 - val_loss: 0.4701 - val_accuracy: 0.7353\n",
            "Epoch 27/300\n",
            "16/16 [==============================] - 0s 4ms/step - loss: 0.3286 - accuracy: 0.8718 - val_loss: 0.4712 - val_accuracy: 0.7353\n",
            "Epoch 28/300\n",
            "16/16 [==============================] - 0s 4ms/step - loss: 0.3246 - accuracy: 0.8718 - val_loss: 0.4729 - val_accuracy: 0.7353\n",
            "Epoch 29/300\n",
            "16/16 [==============================] - 0s 6ms/step - loss: 0.3203 - accuracy: 0.8718 - val_loss: 0.4722 - val_accuracy: 0.7353\n",
            "Epoch 30/300\n",
            "16/16 [==============================] - 0s 4ms/step - loss: 0.3163 - accuracy: 0.8718 - val_loss: 0.4755 - val_accuracy: 0.7353\n",
            "Epoch 31/300\n",
            "16/16 [==============================] - 0s 4ms/step - loss: 0.3134 - accuracy: 0.8718 - val_loss: 0.4787 - val_accuracy: 0.7353\n",
            "Epoch 32/300\n",
            "16/16 [==============================] - 0s 5ms/step - loss: 0.3094 - accuracy: 0.8718 - val_loss: 0.4770 - val_accuracy: 0.7353\n",
            "Epoch 33/300\n",
            "16/16 [==============================] - 0s 5ms/step - loss: 0.3062 - accuracy: 0.8654 - val_loss: 0.4796 - val_accuracy: 0.7353\n",
            "Epoch 34/300\n",
            "16/16 [==============================] - 0s 5ms/step - loss: 0.3026 - accuracy: 0.8654 - val_loss: 0.4793 - val_accuracy: 0.7353\n",
            "Epoch 35/300\n",
            "16/16 [==============================] - 0s 5ms/step - loss: 0.2984 - accuracy: 0.8654 - val_loss: 0.4794 - val_accuracy: 0.7353\n",
            "Epoch 36/300\n",
            "16/16 [==============================] - 0s 5ms/step - loss: 0.2949 - accuracy: 0.8718 - val_loss: 0.4803 - val_accuracy: 0.7353\n",
            "Epoch 37/300\n",
            "16/16 [==============================] - 0s 5ms/step - loss: 0.2914 - accuracy: 0.8654 - val_loss: 0.4855 - val_accuracy: 0.7353\n",
            "Epoch 38/300\n",
            "16/16 [==============================] - 0s 4ms/step - loss: 0.2885 - accuracy: 0.8654 - val_loss: 0.4854 - val_accuracy: 0.7353\n",
            "Epoch 39/300\n",
            "16/16 [==============================] - 0s 5ms/step - loss: 0.2851 - accuracy: 0.8654 - val_loss: 0.4884 - val_accuracy: 0.7353\n",
            "Epoch 40/300\n",
            "16/16 [==============================] - 0s 5ms/step - loss: 0.2814 - accuracy: 0.8654 - val_loss: 0.4903 - val_accuracy: 0.7353\n",
            "Epoch 41/300\n",
            "16/16 [==============================] - 0s 4ms/step - loss: 0.2782 - accuracy: 0.8654 - val_loss: 0.4901 - val_accuracy: 0.7353\n",
            "Epoch 42/300\n",
            "16/16 [==============================] - 0s 4ms/step - loss: 0.2755 - accuracy: 0.8654 - val_loss: 0.4903 - val_accuracy: 0.7353\n",
            "Epoch 43/300\n",
            "16/16 [==============================] - 0s 5ms/step - loss: 0.2717 - accuracy: 0.8718 - val_loss: 0.4912 - val_accuracy: 0.7353\n",
            "Epoch 44/300\n",
            "16/16 [==============================] - 0s 5ms/step - loss: 0.2677 - accuracy: 0.8654 - val_loss: 0.4944 - val_accuracy: 0.7353\n",
            "Epoch 45/300\n",
            "16/16 [==============================] - 0s 5ms/step - loss: 0.2642 - accuracy: 0.8654 - val_loss: 0.4975 - val_accuracy: 0.7353\n",
            "Epoch 46/300\n",
            "16/16 [==============================] - 0s 4ms/step - loss: 0.2615 - accuracy: 0.8718 - val_loss: 0.5005 - val_accuracy: 0.7353\n",
            "Epoch 47/300\n",
            "16/16 [==============================] - 0s 4ms/step - loss: 0.2588 - accuracy: 0.8718 - val_loss: 0.5012 - val_accuracy: 0.7353\n",
            "Epoch 48/300\n",
            "16/16 [==============================] - 0s 4ms/step - loss: 0.2551 - accuracy: 0.8782 - val_loss: 0.5021 - val_accuracy: 0.7353\n",
            "Epoch 49/300\n",
            "16/16 [==============================] - 0s 5ms/step - loss: 0.2517 - accuracy: 0.8846 - val_loss: 0.5029 - val_accuracy: 0.7353\n",
            "Epoch 50/300\n",
            "16/16 [==============================] - 0s 5ms/step - loss: 0.2490 - accuracy: 0.8974 - val_loss: 0.5075 - val_accuracy: 0.7353\n",
            "Epoch 51/300\n",
            "16/16 [==============================] - 0s 5ms/step - loss: 0.2460 - accuracy: 0.8974 - val_loss: 0.5067 - val_accuracy: 0.7353\n",
            "Epoch 52/300\n",
            "16/16 [==============================] - 0s 5ms/step - loss: 0.2425 - accuracy: 0.9038 - val_loss: 0.5104 - val_accuracy: 0.7353\n",
            "Epoch 53/300\n",
            "16/16 [==============================] - 0s 5ms/step - loss: 0.2404 - accuracy: 0.9103 - val_loss: 0.5126 - val_accuracy: 0.7353\n",
            "Epoch 54/300\n",
            "16/16 [==============================] - 0s 5ms/step - loss: 0.2382 - accuracy: 0.9167 - val_loss: 0.5176 - val_accuracy: 0.7353\n",
            "Epoch 55/300\n",
            "16/16 [==============================] - 0s 5ms/step - loss: 0.2337 - accuracy: 0.9103 - val_loss: 0.5196 - val_accuracy: 0.7353\n",
            "Epoch 56/300\n",
            "16/16 [==============================] - 0s 5ms/step - loss: 0.2305 - accuracy: 0.9231 - val_loss: 0.5207 - val_accuracy: 0.7353\n",
            "Epoch 57/300\n",
            "16/16 [==============================] - 0s 5ms/step - loss: 0.2293 - accuracy: 0.9167 - val_loss: 0.5205 - val_accuracy: 0.7500\n",
            "Epoch 58/300\n",
            "16/16 [==============================] - 0s 5ms/step - loss: 0.2252 - accuracy: 0.9167 - val_loss: 0.5219 - val_accuracy: 0.7353\n",
            "Epoch 59/300\n",
            "16/16 [==============================] - 0s 5ms/step - loss: 0.2220 - accuracy: 0.9295 - val_loss: 0.5270 - val_accuracy: 0.7353\n",
            "Epoch 60/300\n",
            "16/16 [==============================] - 0s 5ms/step - loss: 0.2193 - accuracy: 0.9295 - val_loss: 0.5303 - val_accuracy: 0.7353\n",
            "Epoch 61/300\n",
            "16/16 [==============================] - 0s 5ms/step - loss: 0.2167 - accuracy: 0.9295 - val_loss: 0.5340 - val_accuracy: 0.7353\n",
            "Epoch 62/300\n",
            "16/16 [==============================] - 0s 5ms/step - loss: 0.2153 - accuracy: 0.9295 - val_loss: 0.5354 - val_accuracy: 0.7353\n",
            "Epoch 63/300\n",
            "16/16 [==============================] - 0s 4ms/step - loss: 0.2116 - accuracy: 0.9295 - val_loss: 0.5359 - val_accuracy: 0.7353\n",
            "Epoch 64/300\n",
            "16/16 [==============================] - 0s 5ms/step - loss: 0.2091 - accuracy: 0.9295 - val_loss: 0.5406 - val_accuracy: 0.7353\n",
            "Epoch 65/300\n",
            "16/16 [==============================] - 0s 4ms/step - loss: 0.2062 - accuracy: 0.9295 - val_loss: 0.5433 - val_accuracy: 0.7353\n",
            "Epoch 66/300\n",
            "16/16 [==============================] - 0s 4ms/step - loss: 0.2042 - accuracy: 0.9295 - val_loss: 0.5451 - val_accuracy: 0.7206\n",
            "Epoch 67/300\n",
            "16/16 [==============================] - 0s 5ms/step - loss: 0.2016 - accuracy: 0.9359 - val_loss: 0.5502 - val_accuracy: 0.7059\n",
            "Epoch 68/300\n",
            "16/16 [==============================] - 0s 5ms/step - loss: 0.1982 - accuracy: 0.9295 - val_loss: 0.5554 - val_accuracy: 0.7206\n",
            "Epoch 69/300\n",
            "16/16 [==============================] - 0s 5ms/step - loss: 0.1970 - accuracy: 0.9295 - val_loss: 0.5571 - val_accuracy: 0.7206\n",
            "Epoch 70/300\n",
            "16/16 [==============================] - 0s 4ms/step - loss: 0.1935 - accuracy: 0.9359 - val_loss: 0.5578 - val_accuracy: 0.7206\n",
            "Epoch 71/300\n",
            "16/16 [==============================] - 0s 4ms/step - loss: 0.1913 - accuracy: 0.9359 - val_loss: 0.5603 - val_accuracy: 0.7206\n",
            "Epoch 72/300\n",
            "16/16 [==============================] - 0s 4ms/step - loss: 0.1887 - accuracy: 0.9359 - val_loss: 0.5681 - val_accuracy: 0.7206\n",
            "Epoch 73/300\n",
            "16/16 [==============================] - 0s 5ms/step - loss: 0.1868 - accuracy: 0.9487 - val_loss: 0.5653 - val_accuracy: 0.7059\n",
            "Epoch 74/300\n",
            "16/16 [==============================] - 0s 4ms/step - loss: 0.1837 - accuracy: 0.9551 - val_loss: 0.5687 - val_accuracy: 0.7059\n",
            "Epoch 75/300\n",
            "16/16 [==============================] - 0s 5ms/step - loss: 0.1815 - accuracy: 0.9551 - val_loss: 0.5745 - val_accuracy: 0.7059\n",
            "Epoch 76/300\n",
            "16/16 [==============================] - 0s 4ms/step - loss: 0.1797 - accuracy: 0.9551 - val_loss: 0.5763 - val_accuracy: 0.7059\n",
            "Epoch 77/300\n",
            "16/16 [==============================] - 0s 4ms/step - loss: 0.1760 - accuracy: 0.9615 - val_loss: 0.5836 - val_accuracy: 0.7059\n",
            "Epoch 78/300\n",
            "16/16 [==============================] - 0s 5ms/step - loss: 0.1746 - accuracy: 0.9551 - val_loss: 0.5840 - val_accuracy: 0.6912\n",
            "Epoch 79/300\n",
            "16/16 [==============================] - 0s 5ms/step - loss: 0.1720 - accuracy: 0.9551 - val_loss: 0.5877 - val_accuracy: 0.6912\n",
            "Epoch 80/300\n",
            "16/16 [==============================] - 0s 5ms/step - loss: 0.1703 - accuracy: 0.9615 - val_loss: 0.5923 - val_accuracy: 0.7059\n",
            "Epoch 81/300\n",
            "16/16 [==============================] - 0s 4ms/step - loss: 0.1675 - accuracy: 0.9615 - val_loss: 0.5926 - val_accuracy: 0.7206\n",
            "Epoch 82/300\n",
            "16/16 [==============================] - 0s 4ms/step - loss: 0.1657 - accuracy: 0.9615 - val_loss: 0.6014 - val_accuracy: 0.6912\n",
            "Epoch 83/300\n",
            "16/16 [==============================] - 0s 5ms/step - loss: 0.1642 - accuracy: 0.9615 - val_loss: 0.5971 - val_accuracy: 0.7059\n",
            "Epoch 84/300\n",
            "16/16 [==============================] - 0s 4ms/step - loss: 0.1614 - accuracy: 0.9615 - val_loss: 0.6065 - val_accuracy: 0.7059\n",
            "Epoch 85/300\n",
            "16/16 [==============================] - 0s 5ms/step - loss: 0.1588 - accuracy: 0.9615 - val_loss: 0.6092 - val_accuracy: 0.7059\n",
            "Epoch 86/300\n",
            "16/16 [==============================] - 0s 5ms/step - loss: 0.1564 - accuracy: 0.9615 - val_loss: 0.6094 - val_accuracy: 0.7059\n",
            "Epoch 87/300\n",
            "16/16 [==============================] - 0s 5ms/step - loss: 0.1559 - accuracy: 0.9615 - val_loss: 0.6142 - val_accuracy: 0.7059\n",
            "Epoch 88/300\n",
            "16/16 [==============================] - 0s 5ms/step - loss: 0.1531 - accuracy: 0.9615 - val_loss: 0.6118 - val_accuracy: 0.7059\n",
            "Epoch 89/300\n",
            "16/16 [==============================] - 0s 5ms/step - loss: 0.1501 - accuracy: 0.9615 - val_loss: 0.6205 - val_accuracy: 0.7059\n",
            "Epoch 90/300\n",
            "16/16 [==============================] - 0s 4ms/step - loss: 0.1485 - accuracy: 0.9615 - val_loss: 0.6269 - val_accuracy: 0.7059\n",
            "Epoch 91/300\n",
            "16/16 [==============================] - 0s 5ms/step - loss: 0.1465 - accuracy: 0.9615 - val_loss: 0.6286 - val_accuracy: 0.7059\n",
            "Epoch 92/300\n",
            "16/16 [==============================] - 0s 4ms/step - loss: 0.1448 - accuracy: 0.9615 - val_loss: 0.6323 - val_accuracy: 0.7059\n",
            "Epoch 93/300\n",
            "16/16 [==============================] - 0s 5ms/step - loss: 0.1433 - accuracy: 0.9615 - val_loss: 0.6397 - val_accuracy: 0.7059\n",
            "Epoch 94/300\n",
            "16/16 [==============================] - 0s 5ms/step - loss: 0.1409 - accuracy: 0.9679 - val_loss: 0.6368 - val_accuracy: 0.7059\n",
            "Epoch 95/300\n",
            "16/16 [==============================] - 0s 5ms/step - loss: 0.1386 - accuracy: 0.9679 - val_loss: 0.6393 - val_accuracy: 0.7059\n",
            "Epoch 96/300\n",
            "16/16 [==============================] - 0s 4ms/step - loss: 0.1371 - accuracy: 0.9679 - val_loss: 0.6456 - val_accuracy: 0.7059\n",
            "Epoch 97/300\n",
            "16/16 [==============================] - 0s 5ms/step - loss: 0.1355 - accuracy: 0.9679 - val_loss: 0.6480 - val_accuracy: 0.7059\n",
            "Epoch 98/300\n",
            "16/16 [==============================] - 0s 5ms/step - loss: 0.1347 - accuracy: 0.9679 - val_loss: 0.6482 - val_accuracy: 0.7059\n",
            "Epoch 99/300\n",
            "16/16 [==============================] - 0s 5ms/step - loss: 0.1321 - accuracy: 0.9679 - val_loss: 0.6560 - val_accuracy: 0.6912\n",
            "Epoch 100/300\n",
            "16/16 [==============================] - 0s 4ms/step - loss: 0.1294 - accuracy: 0.9679 - val_loss: 0.6609 - val_accuracy: 0.6912\n",
            "Epoch 101/300\n",
            "16/16 [==============================] - 0s 5ms/step - loss: 0.1284 - accuracy: 0.9679 - val_loss: 0.6632 - val_accuracy: 0.7059\n",
            "Epoch 102/300\n",
            "16/16 [==============================] - 0s 5ms/step - loss: 0.1263 - accuracy: 0.9679 - val_loss: 0.6692 - val_accuracy: 0.6912\n",
            "Epoch 103/300\n",
            "16/16 [==============================] - 0s 5ms/step - loss: 0.1261 - accuracy: 0.9615 - val_loss: 0.6722 - val_accuracy: 0.6912\n",
            "Epoch 104/300\n",
            "16/16 [==============================] - 0s 5ms/step - loss: 0.1239 - accuracy: 0.9679 - val_loss: 0.6754 - val_accuracy: 0.6912\n",
            "Epoch 105/300\n",
            "16/16 [==============================] - 0s 6ms/step - loss: 0.1232 - accuracy: 0.9615 - val_loss: 0.6831 - val_accuracy: 0.6912\n",
            "Epoch 106/300\n",
            "16/16 [==============================] - 0s 5ms/step - loss: 0.1212 - accuracy: 0.9679 - val_loss: 0.6863 - val_accuracy: 0.6912\n",
            "Epoch 107/300\n",
            "16/16 [==============================] - 0s 5ms/step - loss: 0.1197 - accuracy: 0.9615 - val_loss: 0.6920 - val_accuracy: 0.6912\n",
            "Epoch 108/300\n",
            "16/16 [==============================] - 0s 4ms/step - loss: 0.1172 - accuracy: 0.9615 - val_loss: 0.6944 - val_accuracy: 0.6912\n",
            "Epoch 109/300\n",
            "16/16 [==============================] - 0s 5ms/step - loss: 0.1159 - accuracy: 0.9615 - val_loss: 0.7003 - val_accuracy: 0.6912\n",
            "Epoch 110/300\n",
            "16/16 [==============================] - 0s 5ms/step - loss: 0.1147 - accuracy: 0.9615 - val_loss: 0.7063 - val_accuracy: 0.6912\n",
            "Epoch 111/300\n",
            "16/16 [==============================] - 0s 4ms/step - loss: 0.1128 - accuracy: 0.9744 - val_loss: 0.7097 - val_accuracy: 0.6912\n",
            "Epoch 112/300\n",
            "16/16 [==============================] - 0s 4ms/step - loss: 0.1116 - accuracy: 0.9744 - val_loss: 0.7122 - val_accuracy: 0.6912\n",
            "Epoch 113/300\n",
            "16/16 [==============================] - 0s 4ms/step - loss: 0.1103 - accuracy: 0.9679 - val_loss: 0.7164 - val_accuracy: 0.6912\n",
            "Epoch 114/300\n",
            "16/16 [==============================] - 0s 5ms/step - loss: 0.1114 - accuracy: 0.9744 - val_loss: 0.7246 - val_accuracy: 0.6912\n",
            "Epoch 115/300\n",
            "16/16 [==============================] - 0s 7ms/step - loss: 0.1086 - accuracy: 0.9679 - val_loss: 0.7249 - val_accuracy: 0.6765\n",
            "Epoch 116/300\n",
            "16/16 [==============================] - 0s 7ms/step - loss: 0.1061 - accuracy: 0.9679 - val_loss: 0.7309 - val_accuracy: 0.6912\n",
            "Epoch 117/300\n",
            "16/16 [==============================] - 0s 10ms/step - loss: 0.1059 - accuracy: 0.9679 - val_loss: 0.7392 - val_accuracy: 0.6912\n",
            "Epoch 118/300\n",
            "16/16 [==============================] - 0s 6ms/step - loss: 0.1032 - accuracy: 0.9679 - val_loss: 0.7426 - val_accuracy: 0.6912\n",
            "Epoch 119/300\n",
            "16/16 [==============================] - 0s 7ms/step - loss: 0.1026 - accuracy: 0.9679 - val_loss: 0.7451 - val_accuracy: 0.6912\n",
            "Epoch 120/300\n",
            "16/16 [==============================] - 0s 6ms/step - loss: 0.1016 - accuracy: 0.9744 - val_loss: 0.7498 - val_accuracy: 0.6912\n",
            "Epoch 121/300\n",
            "16/16 [==============================] - 0s 6ms/step - loss: 0.0995 - accuracy: 0.9744 - val_loss: 0.7521 - val_accuracy: 0.6912\n",
            "Epoch 122/300\n",
            "16/16 [==============================] - 0s 7ms/step - loss: 0.0983 - accuracy: 0.9744 - val_loss: 0.7565 - val_accuracy: 0.6912\n",
            "Epoch 123/300\n",
            "16/16 [==============================] - 0s 6ms/step - loss: 0.0972 - accuracy: 0.9744 - val_loss: 0.7639 - val_accuracy: 0.6912\n",
            "Epoch 124/300\n",
            "16/16 [==============================] - 0s 6ms/step - loss: 0.0958 - accuracy: 0.9744 - val_loss: 0.7658 - val_accuracy: 0.6912\n",
            "Epoch 125/300\n",
            "16/16 [==============================] - 0s 7ms/step - loss: 0.0955 - accuracy: 0.9679 - val_loss: 0.7676 - val_accuracy: 0.6912\n",
            "Epoch 126/300\n",
            "16/16 [==============================] - 0s 6ms/step - loss: 0.0943 - accuracy: 0.9679 - val_loss: 0.7766 - val_accuracy: 0.6765\n",
            "Epoch 127/300\n",
            "16/16 [==============================] - 0s 6ms/step - loss: 0.0926 - accuracy: 0.9679 - val_loss: 0.7780 - val_accuracy: 0.6912\n",
            "Epoch 128/300\n",
            "16/16 [==============================] - 0s 6ms/step - loss: 0.0902 - accuracy: 0.9679 - val_loss: 0.7841 - val_accuracy: 0.6765\n",
            "Epoch 129/300\n",
            "16/16 [==============================] - 0s 7ms/step - loss: 0.0896 - accuracy: 0.9679 - val_loss: 0.7882 - val_accuracy: 0.6765\n",
            "Epoch 130/300\n",
            "16/16 [==============================] - 0s 6ms/step - loss: 0.0886 - accuracy: 0.9679 - val_loss: 0.7912 - val_accuracy: 0.6912\n",
            "Epoch 131/300\n",
            "16/16 [==============================] - 0s 6ms/step - loss: 0.0873 - accuracy: 0.9679 - val_loss: 0.7942 - val_accuracy: 0.6912\n",
            "Epoch 132/300\n",
            "16/16 [==============================] - 0s 6ms/step - loss: 0.0863 - accuracy: 0.9679 - val_loss: 0.7962 - val_accuracy: 0.6912\n",
            "Epoch 133/300\n",
            "16/16 [==============================] - 0s 6ms/step - loss: 0.0860 - accuracy: 0.9679 - val_loss: 0.8002 - val_accuracy: 0.6912\n",
            "Epoch 134/300\n",
            "16/16 [==============================] - 0s 7ms/step - loss: 0.0835 - accuracy: 0.9744 - val_loss: 0.8089 - val_accuracy: 0.6765\n",
            "Epoch 135/300\n",
            "16/16 [==============================] - 0s 6ms/step - loss: 0.0837 - accuracy: 0.9744 - val_loss: 0.8098 - val_accuracy: 0.6912\n",
            "Epoch 136/300\n",
            "16/16 [==============================] - 0s 7ms/step - loss: 0.0824 - accuracy: 0.9744 - val_loss: 0.8151 - val_accuracy: 0.6912\n",
            "Epoch 137/300\n",
            "16/16 [==============================] - 0s 7ms/step - loss: 0.0805 - accuracy: 0.9808 - val_loss: 0.8256 - val_accuracy: 0.6912\n",
            "Epoch 138/300\n",
            "16/16 [==============================] - 0s 6ms/step - loss: 0.0791 - accuracy: 0.9744 - val_loss: 0.8298 - val_accuracy: 0.7059\n",
            "Epoch 139/300\n",
            "16/16 [==============================] - 0s 8ms/step - loss: 0.0783 - accuracy: 0.9744 - val_loss: 0.8361 - val_accuracy: 0.6912\n",
            "Epoch 140/300\n",
            "16/16 [==============================] - 0s 6ms/step - loss: 0.0776 - accuracy: 0.9808 - val_loss: 0.8387 - val_accuracy: 0.6912\n",
            "Epoch 141/300\n",
            "16/16 [==============================] - 0s 4ms/step - loss: 0.0762 - accuracy: 0.9808 - val_loss: 0.8414 - val_accuracy: 0.7059\n",
            "Epoch 142/300\n",
            "16/16 [==============================] - 0s 4ms/step - loss: 0.0755 - accuracy: 0.9744 - val_loss: 0.8427 - val_accuracy: 0.7059\n",
            "Epoch 143/300\n",
            "16/16 [==============================] - 0s 5ms/step - loss: 0.0749 - accuracy: 0.9808 - val_loss: 0.8459 - val_accuracy: 0.6912\n",
            "Epoch 144/300\n",
            "16/16 [==============================] - 0s 4ms/step - loss: 0.0738 - accuracy: 0.9808 - val_loss: 0.8545 - val_accuracy: 0.6912\n",
            "Epoch 145/300\n",
            "16/16 [==============================] - 0s 4ms/step - loss: 0.0722 - accuracy: 0.9808 - val_loss: 0.8612 - val_accuracy: 0.7059\n",
            "Epoch 146/300\n",
            "16/16 [==============================] - 0s 4ms/step - loss: 0.0726 - accuracy: 0.9808 - val_loss: 0.8644 - val_accuracy: 0.7059\n",
            "Epoch 147/300\n",
            "16/16 [==============================] - 0s 4ms/step - loss: 0.0708 - accuracy: 0.9872 - val_loss: 0.8717 - val_accuracy: 0.6912\n",
            "Epoch 148/300\n",
            "16/16 [==============================] - 0s 4ms/step - loss: 0.0701 - accuracy: 0.9872 - val_loss: 0.8729 - val_accuracy: 0.6912\n",
            "Epoch 149/300\n",
            "16/16 [==============================] - 0s 5ms/step - loss: 0.0694 - accuracy: 0.9808 - val_loss: 0.8793 - val_accuracy: 0.7059\n",
            "Epoch 150/300\n",
            "16/16 [==============================] - 0s 5ms/step - loss: 0.0691 - accuracy: 0.9808 - val_loss: 0.8841 - val_accuracy: 0.6912\n",
            "Epoch 151/300\n",
            "16/16 [==============================] - 0s 5ms/step - loss: 0.0677 - accuracy: 0.9872 - val_loss: 0.8907 - val_accuracy: 0.6912\n",
            "Epoch 152/300\n",
            "16/16 [==============================] - 0s 4ms/step - loss: 0.0669 - accuracy: 0.9872 - val_loss: 0.8882 - val_accuracy: 0.7059\n",
            "Epoch 153/300\n",
            "16/16 [==============================] - 0s 4ms/step - loss: 0.0656 - accuracy: 0.9872 - val_loss: 0.8998 - val_accuracy: 0.7059\n",
            "Epoch 154/300\n",
            "16/16 [==============================] - 0s 5ms/step - loss: 0.0652 - accuracy: 0.9872 - val_loss: 0.9043 - val_accuracy: 0.7059\n",
            "Epoch 155/300\n",
            "16/16 [==============================] - 0s 4ms/step - loss: 0.0642 - accuracy: 0.9872 - val_loss: 0.9080 - val_accuracy: 0.7206\n",
            "Epoch 156/300\n",
            "16/16 [==============================] - 0s 5ms/step - loss: 0.0631 - accuracy: 0.9936 - val_loss: 0.9104 - val_accuracy: 0.7059\n",
            "Epoch 157/300\n",
            "16/16 [==============================] - 0s 6ms/step - loss: 0.0627 - accuracy: 0.9936 - val_loss: 0.9207 - val_accuracy: 0.7059\n",
            "Epoch 158/300\n",
            "16/16 [==============================] - 0s 5ms/step - loss: 0.0617 - accuracy: 0.9872 - val_loss: 0.9226 - val_accuracy: 0.7059\n",
            "Epoch 159/300\n",
            "16/16 [==============================] - 0s 4ms/step - loss: 0.0609 - accuracy: 0.9872 - val_loss: 0.9291 - val_accuracy: 0.7059\n",
            "Epoch 160/300\n",
            "16/16 [==============================] - 0s 5ms/step - loss: 0.0600 - accuracy: 0.9872 - val_loss: 0.9349 - val_accuracy: 0.7059\n",
            "Epoch 161/300\n",
            "16/16 [==============================] - 0s 5ms/step - loss: 0.0596 - accuracy: 0.9872 - val_loss: 0.9377 - val_accuracy: 0.7059\n",
            "Epoch 162/300\n",
            "16/16 [==============================] - 0s 4ms/step - loss: 0.0580 - accuracy: 0.9872 - val_loss: 0.9411 - val_accuracy: 0.7206\n",
            "Epoch 163/300\n",
            "16/16 [==============================] - 0s 6ms/step - loss: 0.0584 - accuracy: 0.9936 - val_loss: 0.9487 - val_accuracy: 0.7206\n",
            "Epoch 164/300\n",
            "16/16 [==============================] - 0s 4ms/step - loss: 0.0567 - accuracy: 0.9936 - val_loss: 0.9572 - val_accuracy: 0.7059\n",
            "Epoch 165/300\n",
            "16/16 [==============================] - 0s 4ms/step - loss: 0.0564 - accuracy: 1.0000 - val_loss: 0.9587 - val_accuracy: 0.7206\n",
            "Epoch 166/300\n",
            "16/16 [==============================] - 0s 4ms/step - loss: 0.0559 - accuracy: 0.9872 - val_loss: 0.9648 - val_accuracy: 0.7059\n",
            "Epoch 167/300\n",
            "16/16 [==============================] - 0s 5ms/step - loss: 0.0544 - accuracy: 0.9872 - val_loss: 0.9692 - val_accuracy: 0.7206\n",
            "Epoch 168/300\n",
            "16/16 [==============================] - 0s 5ms/step - loss: 0.0538 - accuracy: 1.0000 - val_loss: 0.9730 - val_accuracy: 0.7206\n",
            "Epoch 169/300\n",
            "16/16 [==============================] - 0s 4ms/step - loss: 0.0533 - accuracy: 1.0000 - val_loss: 0.9817 - val_accuracy: 0.7059\n",
            "Epoch 170/300\n",
            "16/16 [==============================] - 0s 5ms/step - loss: 0.0531 - accuracy: 0.9936 - val_loss: 0.9843 - val_accuracy: 0.7206\n",
            "Epoch 171/300\n",
            "16/16 [==============================] - 0s 4ms/step - loss: 0.0523 - accuracy: 1.0000 - val_loss: 0.9844 - val_accuracy: 0.7059\n",
            "Epoch 172/300\n",
            "16/16 [==============================] - 0s 5ms/step - loss: 0.0514 - accuracy: 0.9936 - val_loss: 0.9887 - val_accuracy: 0.6912\n",
            "Epoch 173/300\n",
            "16/16 [==============================] - 0s 5ms/step - loss: 0.0510 - accuracy: 0.9936 - val_loss: 0.9946 - val_accuracy: 0.6912\n",
            "Epoch 174/300\n",
            "16/16 [==============================] - 0s 4ms/step - loss: 0.0501 - accuracy: 0.9936 - val_loss: 1.0060 - val_accuracy: 0.6912\n",
            "Epoch 175/300\n",
            "16/16 [==============================] - 0s 4ms/step - loss: 0.0504 - accuracy: 1.0000 - val_loss: 1.0079 - val_accuracy: 0.7059\n",
            "Epoch 176/300\n",
            "16/16 [==============================] - 0s 4ms/step - loss: 0.0490 - accuracy: 1.0000 - val_loss: 1.0130 - val_accuracy: 0.6912\n",
            "Epoch 177/300\n",
            "16/16 [==============================] - 0s 4ms/step - loss: 0.0479 - accuracy: 1.0000 - val_loss: 1.0150 - val_accuracy: 0.6912\n",
            "Epoch 178/300\n",
            "16/16 [==============================] - 0s 5ms/step - loss: 0.0475 - accuracy: 0.9936 - val_loss: 1.0165 - val_accuracy: 0.6912\n",
            "Epoch 179/300\n",
            "16/16 [==============================] - 0s 5ms/step - loss: 0.0470 - accuracy: 0.9936 - val_loss: 1.0218 - val_accuracy: 0.6912\n",
            "Epoch 180/300\n",
            "16/16 [==============================] - 0s 5ms/step - loss: 0.0468 - accuracy: 1.0000 - val_loss: 1.0309 - val_accuracy: 0.7059\n",
            "Epoch 181/300\n",
            "16/16 [==============================] - 0s 5ms/step - loss: 0.0456 - accuracy: 1.0000 - val_loss: 1.0314 - val_accuracy: 0.6912\n",
            "Epoch 182/300\n",
            "16/16 [==============================] - 0s 4ms/step - loss: 0.0451 - accuracy: 1.0000 - val_loss: 1.0400 - val_accuracy: 0.6765\n",
            "Epoch 183/300\n",
            "16/16 [==============================] - 0s 5ms/step - loss: 0.0447 - accuracy: 0.9936 - val_loss: 1.0429 - val_accuracy: 0.6765\n",
            "Epoch 184/300\n",
            "16/16 [==============================] - 0s 4ms/step - loss: 0.0443 - accuracy: 0.9936 - val_loss: 1.0473 - val_accuracy: 0.6765\n",
            "Epoch 185/300\n",
            "16/16 [==============================] - 0s 5ms/step - loss: 0.0435 - accuracy: 1.0000 - val_loss: 1.0541 - val_accuracy: 0.6765\n",
            "Epoch 186/300\n",
            "16/16 [==============================] - 0s 5ms/step - loss: 0.0430 - accuracy: 0.9936 - val_loss: 1.0592 - val_accuracy: 0.6765\n",
            "Epoch 187/300\n",
            "16/16 [==============================] - 0s 5ms/step - loss: 0.0425 - accuracy: 0.9936 - val_loss: 1.0658 - val_accuracy: 0.6765\n",
            "Epoch 188/300\n",
            "16/16 [==============================] - 0s 5ms/step - loss: 0.0417 - accuracy: 1.0000 - val_loss: 1.0705 - val_accuracy: 0.6765\n",
            "Epoch 189/300\n",
            "16/16 [==============================] - 0s 5ms/step - loss: 0.0417 - accuracy: 1.0000 - val_loss: 1.0736 - val_accuracy: 0.6765\n",
            "Epoch 190/300\n",
            "16/16 [==============================] - 0s 5ms/step - loss: 0.0406 - accuracy: 1.0000 - val_loss: 1.0762 - val_accuracy: 0.6765\n",
            "Epoch 191/300\n",
            "16/16 [==============================] - 0s 4ms/step - loss: 0.0408 - accuracy: 1.0000 - val_loss: 1.0794 - val_accuracy: 0.6765\n",
            "Epoch 192/300\n",
            "16/16 [==============================] - 0s 5ms/step - loss: 0.0401 - accuracy: 1.0000 - val_loss: 1.0818 - val_accuracy: 0.6765\n",
            "Epoch 193/300\n",
            "16/16 [==============================] - 0s 5ms/step - loss: 0.0394 - accuracy: 1.0000 - val_loss: 1.0903 - val_accuracy: 0.6765\n",
            "Epoch 194/300\n",
            "16/16 [==============================] - 0s 5ms/step - loss: 0.0388 - accuracy: 1.0000 - val_loss: 1.0960 - val_accuracy: 0.6765\n",
            "Epoch 195/300\n",
            "16/16 [==============================] - 0s 4ms/step - loss: 0.0388 - accuracy: 0.9936 - val_loss: 1.0987 - val_accuracy: 0.6765\n",
            "Epoch 196/300\n",
            "16/16 [==============================] - 0s 5ms/step - loss: 0.0391 - accuracy: 0.9936 - val_loss: 1.1041 - val_accuracy: 0.6765\n",
            "Epoch 197/300\n",
            "16/16 [==============================] - 0s 4ms/step - loss: 0.0368 - accuracy: 1.0000 - val_loss: 1.1027 - val_accuracy: 0.6765\n",
            "Epoch 198/300\n",
            "16/16 [==============================] - 0s 5ms/step - loss: 0.0367 - accuracy: 1.0000 - val_loss: 1.1076 - val_accuracy: 0.6765\n",
            "Epoch 199/300\n",
            "16/16 [==============================] - 0s 5ms/step - loss: 0.0370 - accuracy: 0.9936 - val_loss: 1.1140 - val_accuracy: 0.6765\n",
            "Epoch 200/300\n",
            "16/16 [==============================] - 0s 4ms/step - loss: 0.0356 - accuracy: 1.0000 - val_loss: 1.1177 - val_accuracy: 0.6765\n",
            "Epoch 201/300\n",
            "16/16 [==============================] - 0s 5ms/step - loss: 0.0355 - accuracy: 1.0000 - val_loss: 1.1233 - val_accuracy: 0.6765\n",
            "Epoch 202/300\n",
            "16/16 [==============================] - 0s 5ms/step - loss: 0.0345 - accuracy: 1.0000 - val_loss: 1.1273 - val_accuracy: 0.6765\n",
            "Epoch 203/300\n",
            "16/16 [==============================] - 0s 5ms/step - loss: 0.0349 - accuracy: 1.0000 - val_loss: 1.1372 - val_accuracy: 0.6765\n",
            "Epoch 204/300\n",
            "16/16 [==============================] - 0s 5ms/step - loss: 0.0341 - accuracy: 1.0000 - val_loss: 1.1415 - val_accuracy: 0.6765\n",
            "Epoch 205/300\n",
            "16/16 [==============================] - 0s 5ms/step - loss: 0.0336 - accuracy: 1.0000 - val_loss: 1.1489 - val_accuracy: 0.6618\n",
            "Epoch 206/300\n",
            "16/16 [==============================] - 0s 5ms/step - loss: 0.0330 - accuracy: 1.0000 - val_loss: 1.1488 - val_accuracy: 0.6618\n",
            "Epoch 207/300\n",
            "16/16 [==============================] - 0s 5ms/step - loss: 0.0330 - accuracy: 1.0000 - val_loss: 1.1515 - val_accuracy: 0.6618\n",
            "Epoch 208/300\n",
            "16/16 [==============================] - 0s 4ms/step - loss: 0.0318 - accuracy: 1.0000 - val_loss: 1.1568 - val_accuracy: 0.6618\n",
            "Epoch 209/300\n",
            "16/16 [==============================] - 0s 4ms/step - loss: 0.0319 - accuracy: 1.0000 - val_loss: 1.1647 - val_accuracy: 0.6618\n",
            "Epoch 210/300\n",
            "16/16 [==============================] - 0s 4ms/step - loss: 0.0317 - accuracy: 1.0000 - val_loss: 1.1715 - val_accuracy: 0.6618\n",
            "Epoch 211/300\n",
            "16/16 [==============================] - 0s 5ms/step - loss: 0.0312 - accuracy: 1.0000 - val_loss: 1.1771 - val_accuracy: 0.6618\n",
            "Epoch 212/300\n",
            "16/16 [==============================] - 0s 4ms/step - loss: 0.0309 - accuracy: 1.0000 - val_loss: 1.1852 - val_accuracy: 0.6618\n",
            "Epoch 213/300\n",
            "16/16 [==============================] - 0s 4ms/step - loss: 0.0306 - accuracy: 1.0000 - val_loss: 1.1847 - val_accuracy: 0.6618\n",
            "Epoch 214/300\n",
            "16/16 [==============================] - 0s 5ms/step - loss: 0.0307 - accuracy: 1.0000 - val_loss: 1.1931 - val_accuracy: 0.6618\n",
            "Epoch 215/300\n",
            "16/16 [==============================] - 0s 5ms/step - loss: 0.0296 - accuracy: 1.0000 - val_loss: 1.1965 - val_accuracy: 0.6618\n",
            "Epoch 216/300\n",
            "16/16 [==============================] - 0s 5ms/step - loss: 0.0293 - accuracy: 1.0000 - val_loss: 1.2011 - val_accuracy: 0.6618\n",
            "Epoch 217/300\n",
            "16/16 [==============================] - 0s 4ms/step - loss: 0.0290 - accuracy: 1.0000 - val_loss: 1.1996 - val_accuracy: 0.6618\n",
            "Epoch 218/300\n",
            "16/16 [==============================] - 0s 4ms/step - loss: 0.0288 - accuracy: 1.0000 - val_loss: 1.2032 - val_accuracy: 0.6618\n",
            "Epoch 219/300\n",
            "16/16 [==============================] - 0s 4ms/step - loss: 0.0288 - accuracy: 1.0000 - val_loss: 1.2114 - val_accuracy: 0.6618\n",
            "Epoch 220/300\n",
            "16/16 [==============================] - 0s 4ms/step - loss: 0.0277 - accuracy: 1.0000 - val_loss: 1.2150 - val_accuracy: 0.6618\n",
            "Epoch 221/300\n",
            "16/16 [==============================] - 0s 4ms/step - loss: 0.0275 - accuracy: 1.0000 - val_loss: 1.2165 - val_accuracy: 0.6618\n",
            "Epoch 222/300\n",
            "16/16 [==============================] - 0s 4ms/step - loss: 0.0280 - accuracy: 1.0000 - val_loss: 1.2250 - val_accuracy: 0.6618\n",
            "Epoch 223/300\n",
            "16/16 [==============================] - 0s 4ms/step - loss: 0.0268 - accuracy: 1.0000 - val_loss: 1.2286 - val_accuracy: 0.6618\n",
            "Epoch 224/300\n",
            "16/16 [==============================] - 0s 5ms/step - loss: 0.0263 - accuracy: 1.0000 - val_loss: 1.2340 - val_accuracy: 0.6618\n",
            "Epoch 225/300\n",
            "16/16 [==============================] - 0s 4ms/step - loss: 0.0261 - accuracy: 1.0000 - val_loss: 1.2407 - val_accuracy: 0.6618\n",
            "Epoch 226/300\n",
            "16/16 [==============================] - 0s 5ms/step - loss: 0.0259 - accuracy: 1.0000 - val_loss: 1.2429 - val_accuracy: 0.6618\n",
            "Epoch 227/300\n",
            "16/16 [==============================] - 0s 6ms/step - loss: 0.0261 - accuracy: 1.0000 - val_loss: 1.2494 - val_accuracy: 0.6618\n",
            "Epoch 228/300\n",
            "16/16 [==============================] - 0s 4ms/step - loss: 0.0252 - accuracy: 1.0000 - val_loss: 1.2568 - val_accuracy: 0.6618\n",
            "Epoch 229/300\n",
            "16/16 [==============================] - 0s 4ms/step - loss: 0.0246 - accuracy: 1.0000 - val_loss: 1.2559 - val_accuracy: 0.6618\n",
            "Epoch 230/300\n",
            "16/16 [==============================] - 0s 5ms/step - loss: 0.0246 - accuracy: 1.0000 - val_loss: 1.2577 - val_accuracy: 0.6618\n",
            "Epoch 231/300\n",
            "16/16 [==============================] - 0s 4ms/step - loss: 0.0241 - accuracy: 1.0000 - val_loss: 1.2663 - val_accuracy: 0.6618\n",
            "Epoch 232/300\n",
            "16/16 [==============================] - 0s 5ms/step - loss: 0.0236 - accuracy: 1.0000 - val_loss: 1.2708 - val_accuracy: 0.6765\n",
            "Epoch 233/300\n",
            "16/16 [==============================] - 0s 5ms/step - loss: 0.0235 - accuracy: 1.0000 - val_loss: 1.2794 - val_accuracy: 0.6765\n",
            "Epoch 234/300\n",
            "16/16 [==============================] - 0s 4ms/step - loss: 0.0234 - accuracy: 1.0000 - val_loss: 1.2831 - val_accuracy: 0.6618\n",
            "Epoch 235/300\n",
            "16/16 [==============================] - 0s 5ms/step - loss: 0.0231 - accuracy: 1.0000 - val_loss: 1.2875 - val_accuracy: 0.6618\n",
            "Epoch 236/300\n",
            "16/16 [==============================] - 0s 5ms/step - loss: 0.0226 - accuracy: 1.0000 - val_loss: 1.2925 - val_accuracy: 0.6912\n",
            "Epoch 237/300\n",
            "16/16 [==============================] - 0s 4ms/step - loss: 0.0223 - accuracy: 1.0000 - val_loss: 1.2935 - val_accuracy: 0.6912\n",
            "Epoch 238/300\n",
            "16/16 [==============================] - 0s 4ms/step - loss: 0.0220 - accuracy: 1.0000 - val_loss: 1.2986 - val_accuracy: 0.6912\n",
            "Epoch 239/300\n",
            "16/16 [==============================] - 0s 5ms/step - loss: 0.0217 - accuracy: 1.0000 - val_loss: 1.3039 - val_accuracy: 0.6912\n",
            "Epoch 240/300\n",
            "16/16 [==============================] - 0s 4ms/step - loss: 0.0214 - accuracy: 1.0000 - val_loss: 1.3067 - val_accuracy: 0.6912\n",
            "Epoch 241/300\n",
            "16/16 [==============================] - 0s 5ms/step - loss: 0.0215 - accuracy: 1.0000 - val_loss: 1.3117 - val_accuracy: 0.6912\n",
            "Epoch 242/300\n",
            "16/16 [==============================] - 0s 5ms/step - loss: 0.0211 - accuracy: 1.0000 - val_loss: 1.3205 - val_accuracy: 0.6912\n",
            "Epoch 243/300\n",
            "16/16 [==============================] - 0s 5ms/step - loss: 0.0206 - accuracy: 1.0000 - val_loss: 1.3247 - val_accuracy: 0.6912\n",
            "Epoch 244/300\n",
            "16/16 [==============================] - 0s 5ms/step - loss: 0.0203 - accuracy: 1.0000 - val_loss: 1.3290 - val_accuracy: 0.6912\n",
            "Epoch 245/300\n",
            "16/16 [==============================] - 0s 4ms/step - loss: 0.0203 - accuracy: 1.0000 - val_loss: 1.3327 - val_accuracy: 0.6912\n",
            "Epoch 246/300\n",
            "16/16 [==============================] - 0s 5ms/step - loss: 0.0200 - accuracy: 1.0000 - val_loss: 1.3361 - val_accuracy: 0.6912\n",
            "Epoch 247/300\n",
            "16/16 [==============================] - 0s 5ms/step - loss: 0.0197 - accuracy: 1.0000 - val_loss: 1.3435 - val_accuracy: 0.6912\n",
            "Epoch 248/300\n",
            "16/16 [==============================] - 0s 5ms/step - loss: 0.0191 - accuracy: 1.0000 - val_loss: 1.3495 - val_accuracy: 0.6912\n",
            "Epoch 249/300\n",
            "16/16 [==============================] - 0s 5ms/step - loss: 0.0196 - accuracy: 1.0000 - val_loss: 1.3500 - val_accuracy: 0.6912\n",
            "Epoch 250/300\n",
            "16/16 [==============================] - 0s 4ms/step - loss: 0.0189 - accuracy: 1.0000 - val_loss: 1.3529 - val_accuracy: 0.6912\n",
            "Epoch 251/300\n",
            "16/16 [==============================] - 0s 6ms/step - loss: 0.0185 - accuracy: 1.0000 - val_loss: 1.3584 - val_accuracy: 0.6912\n",
            "Epoch 252/300\n",
            "16/16 [==============================] - 0s 5ms/step - loss: 0.0187 - accuracy: 1.0000 - val_loss: 1.3646 - val_accuracy: 0.6912\n",
            "Epoch 253/300\n",
            "16/16 [==============================] - 0s 5ms/step - loss: 0.0179 - accuracy: 1.0000 - val_loss: 1.3691 - val_accuracy: 0.6912\n",
            "Epoch 254/300\n",
            "16/16 [==============================] - 0s 4ms/step - loss: 0.0182 - accuracy: 1.0000 - val_loss: 1.3732 - val_accuracy: 0.6912\n",
            "Epoch 255/300\n",
            "16/16 [==============================] - 0s 4ms/step - loss: 0.0177 - accuracy: 1.0000 - val_loss: 1.3784 - val_accuracy: 0.6912\n",
            "Epoch 256/300\n",
            "16/16 [==============================] - 0s 5ms/step - loss: 0.0174 - accuracy: 1.0000 - val_loss: 1.3840 - val_accuracy: 0.6912\n",
            "Epoch 257/300\n",
            "16/16 [==============================] - 0s 5ms/step - loss: 0.0174 - accuracy: 1.0000 - val_loss: 1.3872 - val_accuracy: 0.6912\n",
            "Epoch 258/300\n",
            "16/16 [==============================] - 0s 4ms/step - loss: 0.0171 - accuracy: 1.0000 - val_loss: 1.3945 - val_accuracy: 0.6912\n",
            "Epoch 259/300\n",
            "16/16 [==============================] - 0s 4ms/step - loss: 0.0163 - accuracy: 1.0000 - val_loss: 1.3965 - val_accuracy: 0.6912\n",
            "Epoch 260/300\n",
            "16/16 [==============================] - 0s 6ms/step - loss: 0.0165 - accuracy: 1.0000 - val_loss: 1.3989 - val_accuracy: 0.6912\n",
            "Epoch 261/300\n",
            "16/16 [==============================] - 0s 6ms/step - loss: 0.0166 - accuracy: 1.0000 - val_loss: 1.4006 - val_accuracy: 0.6912\n",
            "Epoch 262/300\n",
            "16/16 [==============================] - 0s 9ms/step - loss: 0.0162 - accuracy: 1.0000 - val_loss: 1.4087 - val_accuracy: 0.6912\n",
            "Epoch 263/300\n",
            "16/16 [==============================] - 0s 6ms/step - loss: 0.0160 - accuracy: 1.0000 - val_loss: 1.4168 - val_accuracy: 0.6912\n",
            "Epoch 264/300\n",
            "16/16 [==============================] - 0s 6ms/step - loss: 0.0165 - accuracy: 1.0000 - val_loss: 1.4196 - val_accuracy: 0.6912\n",
            "Epoch 265/300\n",
            "16/16 [==============================] - 0s 6ms/step - loss: 0.0157 - accuracy: 1.0000 - val_loss: 1.4249 - val_accuracy: 0.6912\n",
            "Epoch 266/300\n",
            "16/16 [==============================] - 0s 6ms/step - loss: 0.0155 - accuracy: 1.0000 - val_loss: 1.4284 - val_accuracy: 0.6912\n",
            "Epoch 267/300\n",
            "16/16 [==============================] - 0s 6ms/step - loss: 0.0152 - accuracy: 1.0000 - val_loss: 1.4306 - val_accuracy: 0.6912\n",
            "Epoch 268/300\n",
            "16/16 [==============================] - 0s 9ms/step - loss: 0.0158 - accuracy: 1.0000 - val_loss: 1.4378 - val_accuracy: 0.6912\n",
            "Epoch 269/300\n",
            "16/16 [==============================] - 0s 6ms/step - loss: 0.0150 - accuracy: 1.0000 - val_loss: 1.4393 - val_accuracy: 0.6912\n",
            "Epoch 270/300\n",
            "16/16 [==============================] - 0s 6ms/step - loss: 0.0145 - accuracy: 1.0000 - val_loss: 1.4454 - val_accuracy: 0.6912\n",
            "Epoch 271/300\n",
            "16/16 [==============================] - 0s 7ms/step - loss: 0.0144 - accuracy: 1.0000 - val_loss: 1.4522 - val_accuracy: 0.6912\n",
            "Epoch 272/300\n",
            "16/16 [==============================] - 0s 7ms/step - loss: 0.0146 - accuracy: 1.0000 - val_loss: 1.4559 - val_accuracy: 0.6912\n",
            "Epoch 273/300\n",
            "16/16 [==============================] - 0s 6ms/step - loss: 0.0142 - accuracy: 1.0000 - val_loss: 1.4597 - val_accuracy: 0.6912\n",
            "Epoch 274/300\n",
            "16/16 [==============================] - 0s 6ms/step - loss: 0.0137 - accuracy: 1.0000 - val_loss: 1.4650 - val_accuracy: 0.6912\n",
            "Epoch 275/300\n",
            "16/16 [==============================] - 0s 7ms/step - loss: 0.0139 - accuracy: 1.0000 - val_loss: 1.4685 - val_accuracy: 0.6912\n",
            "Epoch 276/300\n",
            "16/16 [==============================] - 0s 5ms/step - loss: 0.0136 - accuracy: 1.0000 - val_loss: 1.4716 - val_accuracy: 0.6912\n",
            "Epoch 277/300\n",
            "16/16 [==============================] - 0s 7ms/step - loss: 0.0137 - accuracy: 1.0000 - val_loss: 1.4786 - val_accuracy: 0.6912\n",
            "Epoch 278/300\n",
            "16/16 [==============================] - 0s 6ms/step - loss: 0.0133 - accuracy: 1.0000 - val_loss: 1.4821 - val_accuracy: 0.6912\n",
            "Epoch 279/300\n",
            "16/16 [==============================] - 0s 6ms/step - loss: 0.0134 - accuracy: 1.0000 - val_loss: 1.4869 - val_accuracy: 0.6912\n",
            "Epoch 280/300\n",
            "16/16 [==============================] - 0s 6ms/step - loss: 0.0131 - accuracy: 1.0000 - val_loss: 1.4922 - val_accuracy: 0.6912\n",
            "Epoch 281/300\n",
            "16/16 [==============================] - 0s 6ms/step - loss: 0.0132 - accuracy: 1.0000 - val_loss: 1.5012 - val_accuracy: 0.6912\n",
            "Epoch 282/300\n",
            "16/16 [==============================] - 0s 8ms/step - loss: 0.0127 - accuracy: 1.0000 - val_loss: 1.5012 - val_accuracy: 0.6912\n",
            "Epoch 283/300\n",
            "16/16 [==============================] - 0s 6ms/step - loss: 0.0128 - accuracy: 1.0000 - val_loss: 1.5048 - val_accuracy: 0.6912\n",
            "Epoch 284/300\n",
            "16/16 [==============================] - 0s 6ms/step - loss: 0.0123 - accuracy: 1.0000 - val_loss: 1.5109 - val_accuracy: 0.6912\n",
            "Epoch 285/300\n",
            "16/16 [==============================] - 0s 7ms/step - loss: 0.0122 - accuracy: 1.0000 - val_loss: 1.5157 - val_accuracy: 0.6912\n",
            "Epoch 286/300\n",
            "16/16 [==============================] - 0s 6ms/step - loss: 0.0123 - accuracy: 1.0000 - val_loss: 1.5207 - val_accuracy: 0.6912\n",
            "Epoch 287/300\n",
            "16/16 [==============================] - 0s 8ms/step - loss: 0.0119 - accuracy: 1.0000 - val_loss: 1.5223 - val_accuracy: 0.6912\n",
            "Epoch 288/300\n",
            "16/16 [==============================] - 0s 7ms/step - loss: 0.0120 - accuracy: 1.0000 - val_loss: 1.5238 - val_accuracy: 0.6765\n",
            "Epoch 289/300\n",
            "16/16 [==============================] - 0s 5ms/step - loss: 0.0117 - accuracy: 1.0000 - val_loss: 1.5316 - val_accuracy: 0.6912\n",
            "Epoch 290/300\n",
            "16/16 [==============================] - 0s 6ms/step - loss: 0.0115 - accuracy: 1.0000 - val_loss: 1.5373 - val_accuracy: 0.6765\n",
            "Epoch 291/300\n",
            "16/16 [==============================] - 0s 5ms/step - loss: 0.0114 - accuracy: 1.0000 - val_loss: 1.5405 - val_accuracy: 0.6765\n",
            "Epoch 292/300\n",
            "16/16 [==============================] - 0s 5ms/step - loss: 0.0112 - accuracy: 1.0000 - val_loss: 1.5442 - val_accuracy: 0.6765\n",
            "Epoch 293/300\n",
            "16/16 [==============================] - 0s 4ms/step - loss: 0.0113 - accuracy: 1.0000 - val_loss: 1.5473 - val_accuracy: 0.6765\n",
            "Epoch 294/300\n",
            "16/16 [==============================] - 0s 4ms/step - loss: 0.0111 - accuracy: 1.0000 - val_loss: 1.5507 - val_accuracy: 0.6912\n",
            "Epoch 295/300\n",
            "16/16 [==============================] - 0s 5ms/step - loss: 0.0107 - accuracy: 1.0000 - val_loss: 1.5602 - val_accuracy: 0.6765\n",
            "Epoch 296/300\n",
            "16/16 [==============================] - 0s 5ms/step - loss: 0.0107 - accuracy: 1.0000 - val_loss: 1.5604 - val_accuracy: 0.6765\n",
            "Epoch 297/300\n",
            "16/16 [==============================] - 0s 6ms/step - loss: 0.0105 - accuracy: 1.0000 - val_loss: 1.5671 - val_accuracy: 0.6765\n",
            "Epoch 298/300\n",
            "16/16 [==============================] - 0s 5ms/step - loss: 0.0105 - accuracy: 1.0000 - val_loss: 1.5650 - val_accuracy: 0.6765\n",
            "Epoch 299/300\n",
            "16/16 [==============================] - 0s 5ms/step - loss: 0.0103 - accuracy: 1.0000 - val_loss: 1.5790 - val_accuracy: 0.6765\n",
            "Epoch 300/300\n",
            "16/16 [==============================] - 0s 5ms/step - loss: 0.0102 - accuracy: 1.0000 - val_loss: 1.5762 - val_accuracy: 0.6765\n"
          ]
        }
      ],
      "source": [
        "history=model.fit(x=xtrain,y=ytrain,validation_split=0.30,epochs=300,batch_size=10)"
      ]
    },
    {
      "cell_type": "code",
      "execution_count": null,
      "id": "6dd89753",
      "metadata": {
        "execution": {
          "iopub.execute_input": "2023-03-28T16:47:49.724830Z",
          "iopub.status.busy": "2023-03-28T16:47:49.724398Z",
          "iopub.status.idle": "2023-03-28T16:47:49.829317Z",
          "shell.execute_reply": "2023-03-28T16:47:49.827532Z"
        },
        "papermill": {
          "duration": 0.179342,
          "end_time": "2023-03-28T16:47:49.832196",
          "exception": false,
          "start_time": "2023-03-28T16:47:49.652854",
          "status": "completed"
        },
        "tags": [],
        "id": "6dd89753",
        "outputId": "9a0a836e-84ff-4ada-b4e0-bb818fe25127"
      },
      "outputs": [
        {
          "name": "stdout",
          "output_type": "stream",
          "text": [
            "7/7 [==============================] - 0s 2ms/step - loss: 0.4130 - accuracy: 0.9107\n",
            "accuracy: 91.07%\n"
          ]
        }
      ],
      "source": [
        "## how well the model is fitting to the data it has already seen during the training process.\n",
        "scores=model.evaluate(xtrain,ytrain)\n",
        "print(\"%s: %.2f%%\" % (model.metrics_names[1],scores[1]*100))"
      ]
    },
    {
      "cell_type": "code",
      "execution_count": null,
      "id": "97cc33a3",
      "metadata": {
        "execution": {
          "iopub.execute_input": "2023-03-28T16:47:49.973558Z",
          "iopub.status.busy": "2023-03-28T16:47:49.972794Z",
          "iopub.status.idle": "2023-03-28T16:47:50.061382Z",
          "shell.execute_reply": "2023-03-28T16:47:50.059664Z"
        },
        "papermill": {
          "duration": 0.162664,
          "end_time": "2023-03-28T16:47:50.064345",
          "exception": false,
          "start_time": "2023-03-28T16:47:49.901681",
          "status": "completed"
        },
        "tags": [],
        "colab": {
          "base_uri": "https://localhost:8080/"
        },
        "id": "97cc33a3",
        "outputId": "ddcfd984-3942-4191-efb6-bbfd40919d8c"
      },
      "outputs": [
        {
          "output_type": "stream",
          "name": "stdout",
          "text": [
            "3/3 [==============================] - 0s 6ms/step - loss: 0.9537 - accuracy: 0.8000\n",
            "accuracy: 80.00%\n"
          ]
        }
      ],
      "source": [
        "#  how well the model is able to generalize to new, unseen data.\n",
        "scores=model.evaluate(xtest,ytest)\n",
        "print(\"%s: %.2f%%\" % (model.metrics_names[1],scores[1]*100))"
      ]
    },
    {
      "cell_type": "code",
      "execution_count": null,
      "id": "4dd76ded",
      "metadata": {
        "execution": {
          "iopub.execute_input": "2023-03-28T16:47:50.203238Z",
          "iopub.status.busy": "2023-03-28T16:47:50.202754Z",
          "iopub.status.idle": "2023-03-28T16:47:50.501175Z",
          "shell.execute_reply": "2023-03-28T16:47:50.500146Z"
        },
        "papermill": {
          "duration": 0.371192,
          "end_time": "2023-03-28T16:47:50.503672",
          "exception": false,
          "start_time": "2023-03-28T16:47:50.132480",
          "status": "completed"
        },
        "tags": [],
        "colab": {
          "base_uri": "https://localhost:8080/",
          "height": 472
        },
        "id": "4dd76ded",
        "outputId": "bbd3dd1e-f762-4920-9686-665092dc228b"
      },
      "outputs": [
        {
          "output_type": "display_data",
          "data": {
            "text/plain": [
              "<Figure size 640x480 with 1 Axes>"
            ],
            "image/png": "[encoded data removed]"
          },
          "metadata": {}
        }
      ],
      "source": [
        "plt.plot(history.history['accuracy'])\n",
        "plt.plot(history.history['val_accuracy'])\n",
        "plt.title('model accuracy')\n",
        "plt.ylabel('accuracy')\n",
        "plt.xlabel('epoch')\n",
        "plt.legend(['train','test'],loc='upper left')\n",
        "plt.show()"
      ]
    },
    {
      "cell_type": "code",
      "execution_count": null,
      "id": "4ee13f19",
      "metadata": {
        "execution": {
          "iopub.execute_input": "2023-03-28T16:47:50.644211Z",
          "iopub.status.busy": "2023-03-28T16:47:50.642918Z",
          "iopub.status.idle": "2023-03-28T16:47:50.860041Z",
          "shell.execute_reply": "2023-03-28T16:47:50.858121Z"
        },
        "papermill": {
          "duration": 0.290096,
          "end_time": "2023-03-28T16:47:50.862745",
          "exception": false,
          "start_time": "2023-03-28T16:47:50.572649",
          "status": "completed"
        },
        "tags": [],
        "colab": {
          "base_uri": "https://localhost:8080/"
        },
        "id": "4ee13f19",
        "outputId": "6c6055af-2d3a-491c-b5c6-b6e8e5df2cc8"
      },
      "outputs": [
        {
          "output_type": "stream",
          "name": "stdout",
          "text": [
            "7/7 [==============================] - 0s 2ms/step - loss: 0.4853 - accuracy: 0.9018\n",
            "3/3 [==============================] - 0s 4ms/step - loss: 0.9537 - accuracy: 0.8000\n"
          ]
        }
      ],
      "source": [
        "Models={\"Models\":[\"KNN\",\"Random_Forest_Classifier\",\"SVC_rbf\",\"SVC_Poly\",\"SVC_linear\",\"SVC_sigmoid\",\"Logistic_Regression\",\"ANN\"],\\\n",
        "       \"Training_Accuracy\":[model_knn.score(xtrain,ytrain),model_rf.score(xtrain,ytrain),model_SVC_rbf.score(xtrain,ytrain),model_SVC_poly.score(xtrain,ytrain),model_SVC_linear.score(xtrain,ytrain),model_SVC_sigmoid.score(xtrain,ytrain),model_SVC_sigmoid.score(xtrain,ytrain),model.evaluate(xtrain,ytrain)],\\\n",
        "       \"Testing_Accuracy\":[model_knn.score(xtest,ytest),model_rf.score(xtest,ytest),model_SVC_rbf.score(xtest,ytest),model_SVC_poly.score(xtest,ytest),model_SVC_linear.score(xtest,ytest),model_SVC_sigmoid.score(xtest,ytest),model_SVC_sigmoid.score(xtest,ytest),model.evaluate(xtest,ytest)]}\n",
        "\n",
        "Scores=pd.DataFrame(Models)"
      ]
    },
    {
      "cell_type": "code",
      "execution_count": null,
      "id": "699b2839",
      "metadata": {
        "execution": {
          "iopub.execute_input": "2023-03-28T16:47:51.005321Z",
          "iopub.status.busy": "2023-03-28T16:47:51.003947Z",
          "iopub.status.idle": "2023-03-28T16:47:51.016859Z",
          "shell.execute_reply": "2023-03-28T16:47:51.015865Z"
        },
        "papermill": {
          "duration": 0.087047,
          "end_time": "2023-03-28T16:47:51.019133",
          "exception": false,
          "start_time": "2023-03-28T16:47:50.932086",
          "status": "completed"
        },
        "tags": [],
        "colab": {
          "base_uri": "https://localhost:8080/",
          "height": 301
        },
        "id": "699b2839",
        "outputId": "22c81630-99dd-44e5-cebb-45145b3cf77d"
      },
      "outputs": [
        {
          "output_type": "execute_result",
          "data": {
            "text/plain": [
              "                     Models                         Training_Accuracy  \\\n",
              "0                       KNN                                  0.772321   \n",
              "1  Random_Forest_Classifier                                       1.0   \n",
              "2                   SVC_rbf                                  0.888393   \n",
              "3                  SVC_Poly                                  0.861607   \n",
              "4                SVC_linear                                  0.825893   \n",
              "5               SVC_sigmoid                                   0.78125   \n",
              "6       Logistic_Regression                                   0.78125   \n",
              "7                       ANN  [0.4853166937828064, 0.9017857313156128]   \n",
              "\n",
              "                          Testing_Accuracy  \n",
              "0                                 0.773333  \n",
              "1                                 0.933333  \n",
              "2                                     0.88  \n",
              "3                                 0.786667  \n",
              "4                                 0.866667  \n",
              "5                                 0.826667  \n",
              "6                                 0.826667  \n",
              "7  [0.9537005424499512, 0.800000011920929]  "
            ],
            "text/html": [
              "\n",
              "  <div id=\"df-cf84191b-e10c-4a53-aa0a-75fe6067e819\">\n",
              "    <div class=\"colab-df-container\">\n",
              "      <div>\n",
              "<style scoped>\n",
              "    .dataframe tbody tr th:only-of-type {\n",
              "        vertical-align: middle;\n",
              "    }\n",
              "\n",
              "    .dataframe tbody tr th {\n",
              "        vertical-align: top;\n",
              "    }\n",
              "\n",
              "    .dataframe thead th {\n",
              "        text-align: right;\n",
              "    }\n",
              "</style>\n",
              "<table border=\"1\" class=\"dataframe\">\n",
              "  <thead>\n",
              "    <tr style=\"text-align: right;\">\n",
              "      <th></th>\n",
              "      <th>Models</th>\n",
              "      <th>Training_Accuracy</th>\n",
              "      <th>Testing_Accuracy</th>\n",
              "    </tr>\n",
              "  </thead>\n",
              "  <tbody>\n",
              "    <tr>\n",
              "      <th>0</th>\n",
              "      <td>KNN</td>\n",
              "      <td>0.772321</td>\n",
              "      <td>0.773333</td>\n",
              "    </tr>\n",
              "    <tr>\n",
              "      <th>1</th>\n",
              "      <td>Random_Forest_Classifier</td>\n",
              "      <td>1.0</td>\n",
              "      <td>0.933333</td>\n",
              "    </tr>\n",
              "    <tr>\n",
              "      <th>2</th>\n",
              "      <td>SVC_rbf</td>\n",
              "      <td>0.888393</td>\n",
              "      <td>0.88</td>\n",
              "    </tr>\n",
              "    <tr>\n",
              "      <th>3</th>\n",
              "      <td>SVC_Poly</td>\n",
              "      <td>0.861607</td>\n",
              "      <td>0.786667</td>\n",
              "    </tr>\n",
              "    <tr>\n",
              "      <th>4</th>\n",
              "      <td>SVC_linear</td>\n",
              "      <td>0.825893</td>\n",
              "      <td>0.866667</td>\n",
              "    </tr>\n",
              "    <tr>\n",
              "      <th>5</th>\n",
              "      <td>SVC_sigmoid</td>\n",
              "      <td>0.78125</td>\n",
              "      <td>0.826667</td>\n",
              "    </tr>\n",
              "    <tr>\n",
              "      <th>6</th>\n",
              "      <td>Logistic_Regression</td>\n",
              "      <td>0.78125</td>\n",
              "      <td>0.826667</td>\n",
              "    </tr>\n",
              "    <tr>\n",
              "      <th>7</th>\n",
              "      <td>ANN</td>\n",
              "      <td>[0.4853166937828064, 0.9017857313156128]</td>\n",
              "      <td>[0.9537005424499512, 0.800000011920929]</td>\n",
              "    </tr>\n",
              "  </tbody>\n",
              "</table>\n",
              "</div>\n",
              "      <button class=\"colab-df-convert\" onclick=\"convertToInteractive('df-cf84191b-e10c-4a53-aa0a-75fe6067e819')\"\n",
              "              title=\"Convert this dataframe to an interactive table.\"\n",
              "              style=\"display:none;\">\n",
              "        \n",
              "  <svg xmlns=\"http://www.w3.org/2000/svg\" height=\"24px\"viewBox=\"0 0 24 24\"\n",
              "       width=\"24px\">\n",
              "    <path d=\"M0 0h24v24H0V0z\" fill=\"none\"/>\n",
              "    <path d=\"M18.56 5.44l.94 2.06.94-2.06 2.06-.94-2.06-.94-.94-2.06-.94 2.06-2.06.94zm-11 1L8.5 8.5l.94-2.06 2.06-.94-2.06-.94L8.5 2.5l-.94 2.06-2.06.94zm10 10l.94 2.06.94-2.06 2.06-.94-2.06-.94-.94-2.06-.94 2.06-2.06.94z\"/><path d=\"M17.41 7.96l-1.37-1.37c-.4-.4-.92-.59-1.43-.59-.52 0-1.04.2-1.43.59L10.3 9.45l-7.72 7.72c-.78.78-.78 2.05 0 2.83L4 21.41c.39.39.9.59 1.41.59.51 0 1.02-.2 1.41-.59l7.78-7.78 2.81-2.81c.8-.78.8-2.07 0-2.86zM5.41 20L4 18.59l7.72-7.72 1.47 1.35L5.41 20z\"/>\n",
              "  </svg>\n",
              "      </button>\n",
              "      \n",
              "  <style>\n",
              "    .colab-df-container {\n",
              "      display:flex;\n",
              "      flex-wrap:wrap;\n",
              "      gap: 12px;\n",
              "    }\n",
              "\n",
              "    .colab-df-convert {\n",
              "      background-color: #E8F0FE;\n",
              "      border: none;\n",
              "      border-radius: 50%;\n",
              "      cursor: pointer;\n",
              "      display: none;\n",
              "      fill: #1967D2;\n",
              "      height: 32px;\n",
              "      padding: 0 0 0 0;\n",
              "      width: 32px;\n",
              "    }\n",
              "\n",
              "    .colab-df-convert:hover {\n",
              "      background-color: #E2EBFA;\n",
              "      box-shadow: 0px 1px 2px rgba(60, 64, 67, 0.3), 0px 1px 3px 1px rgba(60, 64, 67, 0.15);\n",
              "      fill: #174EA6;\n",
              "    }\n",
              "\n",
              "    [theme=dark] .colab-df-convert {\n",
              "      background-color: #3B4455;\n",
              "      fill: #D2E3FC;\n",
              "    }\n",
              "\n",
              "    [theme=dark] .colab-df-convert:hover {\n",
              "      background-color: #434B5C;\n",
              "      box-shadow: 0px 1px 3px 1px rgba(0, 0, 0, 0.15);\n",
              "      filter: drop-shadow(0px 1px 2px rgba(0, 0, 0, 0.3));\n",
              "      fill: #FFFFFF;\n",
              "    }\n",
              "  </style>\n",
              "\n",
              "      <script>\n",
              "        const buttonEl =\n",
              "          document.querySelector('#df-cf84191b-e10c-4a53-aa0a-75fe6067e819 button.colab-df-convert');\n",
              "        buttonEl.style.display =\n",
              "          google.colab.kernel.accessAllowed ? 'block' : 'none';\n",
              "\n",
              "        async function convertToInteractive(key) {\n",
              "          const element = document.querySelector('#df-cf84191b-e10c-4a53-aa0a-75fe6067e819');\n",
              "          const dataTable =\n",
              "            await google.colab.kernel.invokeFunction('convertToInteractive',\n",
              "                                                     [key], {});\n",
              "          if (!dataTable) return;\n",
              "\n",
              "          const docLinkHtml = 'Like what you see? Visit the ' +\n",
              "            '<a target=\"_blank\" href=https://colab.research.google.com/notebooks/data_table.ipynb>data table notebook</a>'\n",
              "            + ' to learn more about interactive tables.';\n",
              "          element.innerHTML = '';\n",
              "          dataTable['output_type'] = 'display_data';\n",
              "          await google.colab.output.renderOutput(dataTable, element);\n",
              "          const docLink = document.createElement('div');\n",
              "          docLink.innerHTML = docLinkHtml;\n",
              "          element.appendChild(docLink);\n",
              "        }\n",
              "      </script>\n",
              "    </div>\n",
              "  </div>\n",
              "  "
            ]
          },
          "metadata": {},
          "execution_count": 48
        }
      ],
      "source": [
        "Scores"
      ]
    }
  ],
  "metadata": {
    "kernelspec": {
      "display_name": "Python 3",
      "language": "python",
      "name": "python3"
    },
    "language_info": {
      "codemirror_mode": {
        "name": "ipython",
        "version": 3
      },
      "file_extension": ".py",
      "mimetype": "text/x-python",
      "name": "python",
      "nbconvert_exporter": "python",
      "pygments_lexer": "ipython3",
      "version": "3.7.12"
    },
    "papermill": {
      "default_parameters": {},
      "duration": 53.800338,
      "end_time": "2023-03-28T16:47:53.946296",
      "environment_variables": {},
      "exception": null,
      "input_path": "__notebook__.ipynb",
      "output_path": "__notebook__.ipynb",
      "parameters": {},
      "start_time": "2023-03-28T16:47:00.145958",
      "version": "2.4.0"
    },
    "colab": {
      "provenance": []
    }
  },
  "nbformat": 4,
  "nbformat_minor": 5
}